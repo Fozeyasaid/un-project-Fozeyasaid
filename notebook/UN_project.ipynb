{
 "cells": [
  {
   "cell_type": "markdown",
   "id": "eaf4a5d2",
   "metadata": {},
   "source": [
    "## UN Project"
   ]
  },
  {
   "cell_type": "markdown",
   "id": "5257e60e",
   "metadata": {},
   "source": [
    "3.     Import the required packages with their customary aliases as follows:"
   ]
  },
  {
   "cell_type": "code",
   "execution_count": null,
   "id": "9051d938",
   "metadata": {},
   "outputs": [],
   "source": [
    " ## Read gdp data as csv"
   ]
  },
  {
   "cell_type": "code",
   "execution_count": 9,
   "id": "08ed6569",
   "metadata": {},
   "outputs": [],
   "source": [
    "    import pandas as pd   \n",
    "    import numpy as np  \n",
    "    import matplotlib.pyplot as plt  \n",
    "    import seaborn as sns"
   ]
  },
  {
   "cell_type": "markdown",
   "id": "3ea71147",
   "metadata": {},
   "source": [
    "4.\tUsing the pandas `read_csv()` method, read the GDP dataset into your notebook as a DataFrame called `gdp_df`. Take a look at the first few and last few rows to familiarize yourself with what is contained in this dataset."
   ]
  },
  {
   "cell_type": "code",
   "execution_count": 10,
   "id": "9a114bae",
   "metadata": {},
   "outputs": [],
   "source": [
    "gdp_df =pd.read_csv('../data/gdp_percapita.csv.csv')"
   ]
  },
  {
   "cell_type": "code",
   "execution_count": 11,
   "id": "70afe45a",
   "metadata": {
    "scrolled": false
   },
   "outputs": [
    {
     "data": {
      "text/html": [
       "<div>\n",
       "<style scoped>\n",
       "    .dataframe tbody tr th:only-of-type {\n",
       "        vertical-align: middle;\n",
       "    }\n",
       "\n",
       "    .dataframe tbody tr th {\n",
       "        vertical-align: top;\n",
       "    }\n",
       "\n",
       "    .dataframe thead th {\n",
       "        text-align: right;\n",
       "    }\n",
       "</style>\n",
       "<table border=\"1\" class=\"dataframe\">\n",
       "  <thead>\n",
       "    <tr style=\"text-align: right;\">\n",
       "      <th></th>\n",
       "      <th>Country or Area</th>\n",
       "      <th>Year</th>\n",
       "      <th>Value</th>\n",
       "      <th>Value Footnotes</th>\n",
       "    </tr>\n",
       "  </thead>\n",
       "  <tbody>\n",
       "    <tr>\n",
       "      <th>0</th>\n",
       "      <td>Afghanistan</td>\n",
       "      <td>2020</td>\n",
       "      <td>1970.560169</td>\n",
       "      <td>NaN</td>\n",
       "    </tr>\n",
       "    <tr>\n",
       "      <th>1</th>\n",
       "      <td>Afghanistan</td>\n",
       "      <td>2019</td>\n",
       "      <td>2065.036235</td>\n",
       "      <td>NaN</td>\n",
       "    </tr>\n",
       "    <tr>\n",
       "      <th>2</th>\n",
       "      <td>Afghanistan</td>\n",
       "      <td>2018</td>\n",
       "      <td>2033.804389</td>\n",
       "      <td>NaN</td>\n",
       "    </tr>\n",
       "    <tr>\n",
       "      <th>3</th>\n",
       "      <td>Afghanistan</td>\n",
       "      <td>2017</td>\n",
       "      <td>2058.400221</td>\n",
       "      <td>NaN</td>\n",
       "    </tr>\n",
       "    <tr>\n",
       "      <th>4</th>\n",
       "      <td>Afghanistan</td>\n",
       "      <td>2016</td>\n",
       "      <td>2057.067978</td>\n",
       "      <td>NaN</td>\n",
       "    </tr>\n",
       "  </tbody>\n",
       "</table>\n",
       "</div>"
      ],
      "text/plain": [
       "  Country or Area  Year        Value  Value Footnotes\n",
       "0     Afghanistan  2020  1970.560169              NaN\n",
       "1     Afghanistan  2019  2065.036235              NaN\n",
       "2     Afghanistan  2018  2033.804389              NaN\n",
       "3     Afghanistan  2017  2058.400221              NaN\n",
       "4     Afghanistan  2016  2057.067978              NaN"
      ]
     },
     "execution_count": 11,
     "metadata": {},
     "output_type": "execute_result"
    }
   ],
   "source": [
    "gdp_df.head()"
   ]
  },
  {
   "cell_type": "code",
   "execution_count": 12,
   "id": "1cd1a170",
   "metadata": {
    "scrolled": true
   },
   "outputs": [
    {
     "data": {
      "text/html": [
       "<div>\n",
       "<style scoped>\n",
       "    .dataframe tbody tr th:only-of-type {\n",
       "        vertical-align: middle;\n",
       "    }\n",
       "\n",
       "    .dataframe tbody tr th {\n",
       "        vertical-align: top;\n",
       "    }\n",
       "\n",
       "    .dataframe thead th {\n",
       "        text-align: right;\n",
       "    }\n",
       "</style>\n",
       "<table border=\"1\" class=\"dataframe\">\n",
       "  <thead>\n",
       "    <tr style=\"text-align: right;\">\n",
       "      <th></th>\n",
       "      <th>Country or Area</th>\n",
       "      <th>Year</th>\n",
       "      <th>Value</th>\n",
       "      <th>Value Footnotes</th>\n",
       "    </tr>\n",
       "  </thead>\n",
       "  <tbody>\n",
       "    <tr>\n",
       "      <th>7171</th>\n",
       "      <td>Zimbabwe</td>\n",
       "      <td>1994</td>\n",
       "      <td>2603.927369</td>\n",
       "      <td>NaN</td>\n",
       "    </tr>\n",
       "    <tr>\n",
       "      <th>7172</th>\n",
       "      <td>Zimbabwe</td>\n",
       "      <td>1993</td>\n",
       "      <td>2420.092791</td>\n",
       "      <td>NaN</td>\n",
       "    </tr>\n",
       "    <tr>\n",
       "      <th>7173</th>\n",
       "      <td>Zimbabwe</td>\n",
       "      <td>1992</td>\n",
       "      <td>2437.152908</td>\n",
       "      <td>NaN</td>\n",
       "    </tr>\n",
       "    <tr>\n",
       "      <th>7174</th>\n",
       "      <td>Zimbabwe</td>\n",
       "      <td>1991</td>\n",
       "      <td>2733.696626</td>\n",
       "      <td>NaN</td>\n",
       "    </tr>\n",
       "    <tr>\n",
       "      <th>7175</th>\n",
       "      <td>Zimbabwe</td>\n",
       "      <td>1990</td>\n",
       "      <td>2652.129209</td>\n",
       "      <td>NaN</td>\n",
       "    </tr>\n",
       "  </tbody>\n",
       "</table>\n",
       "</div>"
      ],
      "text/plain": [
       "     Country or Area  Year        Value  Value Footnotes\n",
       "7171        Zimbabwe  1994  2603.927369              NaN\n",
       "7172        Zimbabwe  1993  2420.092791              NaN\n",
       "7173        Zimbabwe  1992  2437.152908              NaN\n",
       "7174        Zimbabwe  1991  2733.696626              NaN\n",
       "7175        Zimbabwe  1990  2652.129209              NaN"
      ]
     },
     "execution_count": 12,
     "metadata": {},
     "output_type": "execute_result"
    }
   ],
   "source": [
    "gdp_df.tail()"
   ]
  },
  {
   "cell_type": "markdown",
   "id": "7d0df2cc",
   "metadata": {},
   "source": [
    "5. How many rows and columns are in `gdp_df`? What are the data types of each column?"
   ]
  },
  {
   "cell_type": "code",
   "execution_count": 13,
   "id": "ad9efad3",
   "metadata": {},
   "outputs": [
    {
     "data": {
      "text/plain": [
       "(7176, 4)"
      ]
     },
     "execution_count": 13,
     "metadata": {},
     "output_type": "execute_result"
    }
   ],
   "source": [
    "gdp_df.shape"
   ]
  },
  {
   "cell_type": "code",
   "execution_count": 14,
   "id": "65f48a93",
   "metadata": {},
   "outputs": [],
   "source": [
    "## data type for each column\n"
   ]
  },
  {
   "cell_type": "code",
   "execution_count": 15,
   "id": "de731352",
   "metadata": {
    "scrolled": true
   },
   "outputs": [
    {
     "data": {
      "text/plain": [
       "Country or Area     object\n",
       "Year                 int64\n",
       "Value              float64\n",
       "Value Footnotes    float64\n",
       "dtype: object"
      ]
     },
     "execution_count": 15,
     "metadata": {},
     "output_type": "execute_result"
    }
   ],
   "source": [
    "gdp_df.dtypes"
   ]
  },
  {
   "cell_type": "code",
   "execution_count": 16,
   "id": "53ebe181",
   "metadata": {},
   "outputs": [
    {
     "data": {
      "text/plain": [
       "Index(['Country or Area', 'Year', 'Value', 'Value Footnotes'], dtype='object')"
      ]
     },
     "execution_count": 16,
     "metadata": {},
     "output_type": "execute_result"
    }
   ],
   "source": [
    "gdp_df.columns"
   ]
  },
  {
   "cell_type": "markdown",
   "id": "346fb771",
   "metadata": {},
   "source": [
    "6. Drop the `Value Footnotes` column and rename the remaining three to 'Country', 'Year', and 'GDP_Per_Capita'."
   ]
  },
  {
   "cell_type": "code",
   "execution_count": 17,
   "id": "e38bf435",
   "metadata": {},
   "outputs": [],
   "source": [
    "gdp_df = gdp_df.drop(columns = ['Value Footnotes'])"
   ]
  },
  {
   "cell_type": "code",
   "execution_count": 18,
   "id": "741f02f8",
   "metadata": {},
   "outputs": [
    {
     "data": {
      "text/plain": [
       "Index(['Country or Area', 'Year', 'Value'], dtype='object')"
      ]
     },
     "execution_count": 18,
     "metadata": {},
     "output_type": "execute_result"
    }
   ],
   "source": [
    "gdp_df.columns"
   ]
  },
  {
   "cell_type": "code",
   "execution_count": 19,
   "id": "224581d3",
   "metadata": {},
   "outputs": [],
   "source": [
    "## rename"
   ]
  },
  {
   "cell_type": "code",
   "execution_count": 20,
   "id": "0c49f4ea",
   "metadata": {},
   "outputs": [],
   "source": [
    "gdp_df = gdp_df.rename(columns = {'Country or Area' : 'Country','Year' : 'Year','Value' : 'GDP_Per_Capita'})"
   ]
  },
  {
   "cell_type": "code",
   "execution_count": 21,
   "id": "ce3bc4a7",
   "metadata": {},
   "outputs": [
    {
     "data": {
      "text/html": [
       "<div>\n",
       "<style scoped>\n",
       "    .dataframe tbody tr th:only-of-type {\n",
       "        vertical-align: middle;\n",
       "    }\n",
       "\n",
       "    .dataframe tbody tr th {\n",
       "        vertical-align: top;\n",
       "    }\n",
       "\n",
       "    .dataframe thead th {\n",
       "        text-align: right;\n",
       "    }\n",
       "</style>\n",
       "<table border=\"1\" class=\"dataframe\">\n",
       "  <thead>\n",
       "    <tr style=\"text-align: right;\">\n",
       "      <th></th>\n",
       "      <th>Country</th>\n",
       "      <th>Year</th>\n",
       "      <th>GDP_Per_Capita</th>\n",
       "    </tr>\n",
       "  </thead>\n",
       "  <tbody>\n",
       "    <tr>\n",
       "      <th>0</th>\n",
       "      <td>Afghanistan</td>\n",
       "      <td>2020</td>\n",
       "      <td>1970.560169</td>\n",
       "    </tr>\n",
       "    <tr>\n",
       "      <th>1</th>\n",
       "      <td>Afghanistan</td>\n",
       "      <td>2019</td>\n",
       "      <td>2065.036235</td>\n",
       "    </tr>\n",
       "    <tr>\n",
       "      <th>2</th>\n",
       "      <td>Afghanistan</td>\n",
       "      <td>2018</td>\n",
       "      <td>2033.804389</td>\n",
       "    </tr>\n",
       "    <tr>\n",
       "      <th>3</th>\n",
       "      <td>Afghanistan</td>\n",
       "      <td>2017</td>\n",
       "      <td>2058.400221</td>\n",
       "    </tr>\n",
       "    <tr>\n",
       "      <th>4</th>\n",
       "      <td>Afghanistan</td>\n",
       "      <td>2016</td>\n",
       "      <td>2057.067978</td>\n",
       "    </tr>\n",
       "    <tr>\n",
       "      <th>...</th>\n",
       "      <td>...</td>\n",
       "      <td>...</td>\n",
       "      <td>...</td>\n",
       "    </tr>\n",
       "    <tr>\n",
       "      <th>7171</th>\n",
       "      <td>Zimbabwe</td>\n",
       "      <td>1994</td>\n",
       "      <td>2603.927369</td>\n",
       "    </tr>\n",
       "    <tr>\n",
       "      <th>7172</th>\n",
       "      <td>Zimbabwe</td>\n",
       "      <td>1993</td>\n",
       "      <td>2420.092791</td>\n",
       "    </tr>\n",
       "    <tr>\n",
       "      <th>7173</th>\n",
       "      <td>Zimbabwe</td>\n",
       "      <td>1992</td>\n",
       "      <td>2437.152908</td>\n",
       "    </tr>\n",
       "    <tr>\n",
       "      <th>7174</th>\n",
       "      <td>Zimbabwe</td>\n",
       "      <td>1991</td>\n",
       "      <td>2733.696626</td>\n",
       "    </tr>\n",
       "    <tr>\n",
       "      <th>7175</th>\n",
       "      <td>Zimbabwe</td>\n",
       "      <td>1990</td>\n",
       "      <td>2652.129209</td>\n",
       "    </tr>\n",
       "  </tbody>\n",
       "</table>\n",
       "<p>7176 rows × 3 columns</p>\n",
       "</div>"
      ],
      "text/plain": [
       "          Country  Year  GDP_Per_Capita\n",
       "0     Afghanistan  2020     1970.560169\n",
       "1     Afghanistan  2019     2065.036235\n",
       "2     Afghanistan  2018     2033.804389\n",
       "3     Afghanistan  2017     2058.400221\n",
       "4     Afghanistan  2016     2057.067978\n",
       "...           ...   ...             ...\n",
       "7171     Zimbabwe  1994     2603.927369\n",
       "7172     Zimbabwe  1993     2420.092791\n",
       "7173     Zimbabwe  1992     2437.152908\n",
       "7174     Zimbabwe  1991     2733.696626\n",
       "7175     Zimbabwe  1990     2652.129209\n",
       "\n",
       "[7176 rows x 3 columns]"
      ]
     },
     "execution_count": 21,
     "metadata": {},
     "output_type": "execute_result"
    }
   ],
   "source": [
    "gdp_df"
   ]
  },
  {
   "cell_type": "markdown",
   "id": "b17e1959",
   "metadata": {},
   "source": [
    "7. How many countries have data for all years? Which countries are missing many years of data? Look at the number of observations per year. What do you notice? "
   ]
  },
  {
   "cell_type": "code",
   "execution_count": 22,
   "id": "db38416d",
   "metadata": {},
   "outputs": [],
   "source": [
    "# to see any possible null countries and how many countries have data all years"
   ]
  },
  {
   "cell_type": "code",
   "execution_count": 23,
   "id": "9420471b",
   "metadata": {
    "scrolled": true
   },
   "outputs": [
    {
     "data": {
      "text/plain": [
       "Country\n",
       "Least developed countries: UN classification    31\n",
       "Niger                                           31\n",
       "Middle East & North Africa (IDA & IBRD)         31\n",
       "Middle income                                   31\n",
       "Mongolia                                        31\n",
       "                                                ..\n",
       "Kosovo                                          13\n",
       "Turks and Caicos Islands                        10\n",
       "Sint Maarten (Dutch part)                       10\n",
       "Somalia                                          8\n",
       "Djibouti                                         8\n",
       "Name: count, Length: 242, dtype: int64"
      ]
     },
     "execution_count": 23,
     "metadata": {},
     "output_type": "execute_result"
    }
   ],
   "source": [
    "gdp_df.Country.value_counts(dropna = False)"
   ]
  },
  {
   "cell_type": "code",
   "execution_count": 24,
   "id": "e4b5b253",
   "metadata": {},
   "outputs": [],
   "source": [
    "# or I can use gdp_df.Country.value_counts()"
   ]
  },
  {
   "cell_type": "code",
   "execution_count": 25,
   "id": "c2cc1a67",
   "metadata": {},
   "outputs": [],
   "source": [
    "# no null value"
   ]
  },
  {
   "cell_type": "code",
   "execution_count": 26,
   "id": "e0bd7c13",
   "metadata": {},
   "outputs": [],
   "source": [
    "Country_numbers = gdp_df.Country.value_counts()"
   ]
  },
  {
   "cell_type": "code",
   "execution_count": 27,
   "id": "a67ddc78",
   "metadata": {},
   "outputs": [],
   "source": [
    "Country_numbers = Country_numbers.to_frame()"
   ]
  },
  {
   "cell_type": "code",
   "execution_count": 28,
   "id": "4e593a67",
   "metadata": {},
   "outputs": [
    {
     "data": {
      "text/plain": [
       "pandas.core.frame.DataFrame"
      ]
     },
     "execution_count": 28,
     "metadata": {},
     "output_type": "execute_result"
    }
   ],
   "source": [
    "type(Country_numbers)"
   ]
  },
  {
   "cell_type": "code",
   "execution_count": 29,
   "id": "5e46e0b0",
   "metadata": {},
   "outputs": [
    {
     "data": {
      "text/html": [
       "<div>\n",
       "<style scoped>\n",
       "    .dataframe tbody tr th:only-of-type {\n",
       "        vertical-align: middle;\n",
       "    }\n",
       "\n",
       "    .dataframe tbody tr th {\n",
       "        vertical-align: top;\n",
       "    }\n",
       "\n",
       "    .dataframe thead th {\n",
       "        text-align: right;\n",
       "    }\n",
       "</style>\n",
       "<table border=\"1\" class=\"dataframe\">\n",
       "  <thead>\n",
       "    <tr style=\"text-align: right;\">\n",
       "      <th></th>\n",
       "      <th>count</th>\n",
       "    </tr>\n",
       "    <tr>\n",
       "      <th>Country</th>\n",
       "      <th></th>\n",
       "    </tr>\n",
       "  </thead>\n",
       "  <tbody>\n",
       "    <tr>\n",
       "      <th>Least developed countries: UN classification</th>\n",
       "      <td>31</td>\n",
       "    </tr>\n",
       "    <tr>\n",
       "      <th>Niger</th>\n",
       "      <td>31</td>\n",
       "    </tr>\n",
       "    <tr>\n",
       "      <th>Middle East &amp; North Africa (IDA &amp; IBRD)</th>\n",
       "      <td>31</td>\n",
       "    </tr>\n",
       "    <tr>\n",
       "      <th>Middle income</th>\n",
       "      <td>31</td>\n",
       "    </tr>\n",
       "    <tr>\n",
       "      <th>Mongolia</th>\n",
       "      <td>31</td>\n",
       "    </tr>\n",
       "    <tr>\n",
       "      <th>...</th>\n",
       "      <td>...</td>\n",
       "    </tr>\n",
       "    <tr>\n",
       "      <th>Kosovo</th>\n",
       "      <td>13</td>\n",
       "    </tr>\n",
       "    <tr>\n",
       "      <th>Turks and Caicos Islands</th>\n",
       "      <td>10</td>\n",
       "    </tr>\n",
       "    <tr>\n",
       "      <th>Sint Maarten (Dutch part)</th>\n",
       "      <td>10</td>\n",
       "    </tr>\n",
       "    <tr>\n",
       "      <th>Somalia</th>\n",
       "      <td>8</td>\n",
       "    </tr>\n",
       "    <tr>\n",
       "      <th>Djibouti</th>\n",
       "      <td>8</td>\n",
       "    </tr>\n",
       "  </tbody>\n",
       "</table>\n",
       "<p>242 rows × 1 columns</p>\n",
       "</div>"
      ],
      "text/plain": [
       "                                              count\n",
       "Country                                            \n",
       "Least developed countries: UN classification     31\n",
       "Niger                                            31\n",
       "Middle East & North Africa (IDA & IBRD)          31\n",
       "Middle income                                    31\n",
       "Mongolia                                         31\n",
       "...                                             ...\n",
       "Kosovo                                           13\n",
       "Turks and Caicos Islands                         10\n",
       "Sint Maarten (Dutch part)                        10\n",
       "Somalia                                           8\n",
       "Djibouti                                          8\n",
       "\n",
       "[242 rows x 1 columns]"
      ]
     },
     "execution_count": 29,
     "metadata": {},
     "output_type": "execute_result"
    }
   ],
   "source": [
    "Country_numbers"
   ]
  },
  {
   "cell_type": "code",
   "execution_count": 30,
   "id": "6b914c89",
   "metadata": {},
   "outputs": [
    {
     "data": {
      "text/html": [
       "<div>\n",
       "<style scoped>\n",
       "    .dataframe tbody tr th:only-of-type {\n",
       "        vertical-align: middle;\n",
       "    }\n",
       "\n",
       "    .dataframe tbody tr th {\n",
       "        vertical-align: top;\n",
       "    }\n",
       "\n",
       "    .dataframe thead th {\n",
       "        text-align: right;\n",
       "    }\n",
       "</style>\n",
       "<table border=\"1\" class=\"dataframe\">\n",
       "  <thead>\n",
       "    <tr style=\"text-align: right;\">\n",
       "      <th></th>\n",
       "      <th>Country</th>\n",
       "      <th>count</th>\n",
       "    </tr>\n",
       "  </thead>\n",
       "  <tbody>\n",
       "    <tr>\n",
       "      <th>0</th>\n",
       "      <td>Least developed countries: UN classification</td>\n",
       "      <td>31</td>\n",
       "    </tr>\n",
       "    <tr>\n",
       "      <th>1</th>\n",
       "      <td>Niger</td>\n",
       "      <td>31</td>\n",
       "    </tr>\n",
       "    <tr>\n",
       "      <th>2</th>\n",
       "      <td>Middle East &amp; North Africa (IDA &amp; IBRD)</td>\n",
       "      <td>31</td>\n",
       "    </tr>\n",
       "    <tr>\n",
       "      <th>3</th>\n",
       "      <td>Middle income</td>\n",
       "      <td>31</td>\n",
       "    </tr>\n",
       "    <tr>\n",
       "      <th>4</th>\n",
       "      <td>Mongolia</td>\n",
       "      <td>31</td>\n",
       "    </tr>\n",
       "    <tr>\n",
       "      <th>...</th>\n",
       "      <td>...</td>\n",
       "      <td>...</td>\n",
       "    </tr>\n",
       "    <tr>\n",
       "      <th>237</th>\n",
       "      <td>Kosovo</td>\n",
       "      <td>13</td>\n",
       "    </tr>\n",
       "    <tr>\n",
       "      <th>238</th>\n",
       "      <td>Turks and Caicos Islands</td>\n",
       "      <td>10</td>\n",
       "    </tr>\n",
       "    <tr>\n",
       "      <th>239</th>\n",
       "      <td>Sint Maarten (Dutch part)</td>\n",
       "      <td>10</td>\n",
       "    </tr>\n",
       "    <tr>\n",
       "      <th>240</th>\n",
       "      <td>Somalia</td>\n",
       "      <td>8</td>\n",
       "    </tr>\n",
       "    <tr>\n",
       "      <th>241</th>\n",
       "      <td>Djibouti</td>\n",
       "      <td>8</td>\n",
       "    </tr>\n",
       "  </tbody>\n",
       "</table>\n",
       "<p>242 rows × 2 columns</p>\n",
       "</div>"
      ],
      "text/plain": [
       "                                          Country  count\n",
       "0    Least developed countries: UN classification     31\n",
       "1                                           Niger     31\n",
       "2         Middle East & North Africa (IDA & IBRD)     31\n",
       "3                                   Middle income     31\n",
       "4                                        Mongolia     31\n",
       "..                                            ...    ...\n",
       "237                                        Kosovo     13\n",
       "238                      Turks and Caicos Islands     10\n",
       "239                     Sint Maarten (Dutch part)     10\n",
       "240                                       Somalia      8\n",
       "241                                      Djibouti      8\n",
       "\n",
       "[242 rows x 2 columns]"
      ]
     },
     "execution_count": 30,
     "metadata": {},
     "output_type": "execute_result"
    }
   ],
   "source": [
    "Country_numbers.reset_index()"
   ]
  },
  {
   "cell_type": "code",
   "execution_count": 31,
   "id": "49e0e492",
   "metadata": {},
   "outputs": [
    {
     "data": {
      "text/html": [
       "<div>\n",
       "<style scoped>\n",
       "    .dataframe tbody tr th:only-of-type {\n",
       "        vertical-align: middle;\n",
       "    }\n",
       "\n",
       "    .dataframe tbody tr th {\n",
       "        vertical-align: top;\n",
       "    }\n",
       "\n",
       "    .dataframe thead th {\n",
       "        text-align: right;\n",
       "    }\n",
       "</style>\n",
       "<table border=\"1\" class=\"dataframe\">\n",
       "  <thead>\n",
       "    <tr style=\"text-align: right;\">\n",
       "      <th></th>\n",
       "      <th>count</th>\n",
       "    </tr>\n",
       "    <tr>\n",
       "      <th>Country</th>\n",
       "      <th></th>\n",
       "    </tr>\n",
       "  </thead>\n",
       "  <tbody>\n",
       "    <tr>\n",
       "      <th>Least developed countries: UN classification</th>\n",
       "      <td>31</td>\n",
       "    </tr>\n",
       "    <tr>\n",
       "      <th>Niger</th>\n",
       "      <td>31</td>\n",
       "    </tr>\n",
       "    <tr>\n",
       "      <th>Middle East &amp; North Africa (IDA &amp; IBRD)</th>\n",
       "      <td>31</td>\n",
       "    </tr>\n",
       "    <tr>\n",
       "      <th>Middle income</th>\n",
       "      <td>31</td>\n",
       "    </tr>\n",
       "    <tr>\n",
       "      <th>Mongolia</th>\n",
       "      <td>31</td>\n",
       "    </tr>\n",
       "    <tr>\n",
       "      <th>...</th>\n",
       "      <td>...</td>\n",
       "    </tr>\n",
       "    <tr>\n",
       "      <th>IDA only</th>\n",
       "      <td>31</td>\n",
       "    </tr>\n",
       "    <tr>\n",
       "      <th>Fragile and conflict affected situations</th>\n",
       "      <td>31</td>\n",
       "    </tr>\n",
       "    <tr>\n",
       "      <th>Ireland</th>\n",
       "      <td>31</td>\n",
       "    </tr>\n",
       "    <tr>\n",
       "      <th>France</th>\n",
       "      <td>31</td>\n",
       "    </tr>\n",
       "    <tr>\n",
       "      <th>Italy</th>\n",
       "      <td>31</td>\n",
       "    </tr>\n",
       "  </tbody>\n",
       "</table>\n",
       "<p>205 rows × 1 columns</p>\n",
       "</div>"
      ],
      "text/plain": [
       "                                              count\n",
       "Country                                            \n",
       "Least developed countries: UN classification     31\n",
       "Niger                                            31\n",
       "Middle East & North Africa (IDA & IBRD)          31\n",
       "Middle income                                    31\n",
       "Mongolia                                         31\n",
       "...                                             ...\n",
       "IDA only                                         31\n",
       "Fragile and conflict affected situations         31\n",
       "Ireland                                          31\n",
       "France                                           31\n",
       "Italy                                            31\n",
       "\n",
       "[205 rows x 1 columns]"
      ]
     },
     "execution_count": 31,
     "metadata": {},
     "output_type": "execute_result"
    }
   ],
   "source": [
    "Country_numbers.query('count == 31')\n",
    "#country_numbers of max count = the number of years"
   ]
  },
  {
   "cell_type": "markdown",
   "id": "693a1ca0",
   "metadata": {},
   "source": [
    "     => 205 countries have data all years."
   ]
  },
  {
   "cell_type": "code",
   "execution_count": 32,
   "id": "ef8babab",
   "metadata": {},
   "outputs": [
    {
     "data": {
      "text/html": [
       "<div>\n",
       "<style scoped>\n",
       "    .dataframe tbody tr th:only-of-type {\n",
       "        vertical-align: middle;\n",
       "    }\n",
       "\n",
       "    .dataframe tbody tr th {\n",
       "        vertical-align: top;\n",
       "    }\n",
       "\n",
       "    .dataframe thead th {\n",
       "        text-align: right;\n",
       "    }\n",
       "</style>\n",
       "<table border=\"1\" class=\"dataframe\">\n",
       "  <thead>\n",
       "    <tr style=\"text-align: right;\">\n",
       "      <th></th>\n",
       "      <th>count</th>\n",
       "    </tr>\n",
       "    <tr>\n",
       "      <th>Country</th>\n",
       "      <th></th>\n",
       "    </tr>\n",
       "  </thead>\n",
       "  <tbody>\n",
       "    <tr>\n",
       "      <th>Turkmenistan</th>\n",
       "      <td>30</td>\n",
       "    </tr>\n",
       "    <tr>\n",
       "      <th>Hungary</th>\n",
       "      <td>30</td>\n",
       "    </tr>\n",
       "    <tr>\n",
       "      <th>Slovak Republic</th>\n",
       "      <td>29</td>\n",
       "    </tr>\n",
       "    <tr>\n",
       "      <th>Cambodia</th>\n",
       "      <td>28</td>\n",
       "    </tr>\n",
       "    <tr>\n",
       "      <th>West Bank and Gaza</th>\n",
       "      <td>27</td>\n",
       "    </tr>\n",
       "  </tbody>\n",
       "</table>\n",
       "</div>"
      ],
      "text/plain": [
       "                    count\n",
       "Country                  \n",
       "Turkmenistan           30\n",
       "Hungary                30\n",
       "Slovak Republic        29\n",
       "Cambodia               28\n",
       "West Bank and Gaza     27"
      ]
     },
     "execution_count": 32,
     "metadata": {},
     "output_type": "execute_result"
    }
   ],
   "source": [
    " Country_numbers.query('count != 31').head()"
   ]
  },
  {
   "cell_type": "code",
   "execution_count": 33,
   "id": "df9b3777",
   "metadata": {},
   "outputs": [],
   "source": [
    "missing_data = Country_numbers.query('count != 31')"
   ]
  },
  {
   "cell_type": "code",
   "execution_count": 34,
   "id": "ee7ec177",
   "metadata": {},
   "outputs": [
    {
     "data": {
      "text/plain": [
       "(37, 1)"
      ]
     },
     "execution_count": 34,
     "metadata": {},
     "output_type": "execute_result"
    }
   ],
   "source": [
    "missing_data.shape"
   ]
  },
  {
   "cell_type": "markdown",
   "id": "82e032d1",
   "metadata": {},
   "source": [
    "     => 37 countries missing data."
   ]
  },
  {
   "cell_type": "code",
   "execution_count": 35,
   "id": "162532eb",
   "metadata": {
    "scrolled": false
   },
   "outputs": [
    {
     "data": {
      "text/plain": [
       "Year\n",
       "2018    242\n",
       "2017    242\n",
       "2016    242\n",
       "2015    242\n",
       "2014    242\n",
       "Name: count, dtype: int64"
      ]
     },
     "execution_count": 35,
     "metadata": {},
     "output_type": "execute_result"
    }
   ],
   "source": [
    "gdp_df.Year.value_counts().head()"
   ]
  },
  {
   "cell_type": "code",
   "execution_count": 36,
   "id": "658a09ab",
   "metadata": {},
   "outputs": [],
   "source": [
    "year_observation = gdp_df.Year.value_counts()"
   ]
  },
  {
   "cell_type": "code",
   "execution_count": 37,
   "id": "2407a39d",
   "metadata": {
    "scrolled": false
   },
   "outputs": [],
   "source": [
    "year_observation = year_observation.to_frame()"
   ]
  },
  {
   "cell_type": "code",
   "execution_count": 38,
   "id": "3f0a3d53",
   "metadata": {},
   "outputs": [
    {
     "data": {
      "text/plain": [
       "pandas.core.frame.DataFrame"
      ]
     },
     "execution_count": 38,
     "metadata": {},
     "output_type": "execute_result"
    }
   ],
   "source": [
    "type(year_observation)"
   ]
  },
  {
   "cell_type": "code",
   "execution_count": 39,
   "id": "e311e46b",
   "metadata": {},
   "outputs": [
    {
     "data": {
      "text/html": [
       "<div>\n",
       "<style scoped>\n",
       "    .dataframe tbody tr th:only-of-type {\n",
       "        vertical-align: middle;\n",
       "    }\n",
       "\n",
       "    .dataframe tbody tr th {\n",
       "        vertical-align: top;\n",
       "    }\n",
       "\n",
       "    .dataframe thead th {\n",
       "        text-align: right;\n",
       "    }\n",
       "</style>\n",
       "<table border=\"1\" class=\"dataframe\">\n",
       "  <thead>\n",
       "    <tr style=\"text-align: right;\">\n",
       "      <th></th>\n",
       "      <th>Year</th>\n",
       "      <th>count</th>\n",
       "    </tr>\n",
       "  </thead>\n",
       "  <tbody>\n",
       "    <tr>\n",
       "      <th>0</th>\n",
       "      <td>2018</td>\n",
       "      <td>242</td>\n",
       "    </tr>\n",
       "    <tr>\n",
       "      <th>1</th>\n",
       "      <td>2017</td>\n",
       "      <td>242</td>\n",
       "    </tr>\n",
       "    <tr>\n",
       "      <th>2</th>\n",
       "      <td>2016</td>\n",
       "      <td>242</td>\n",
       "    </tr>\n",
       "    <tr>\n",
       "      <th>3</th>\n",
       "      <td>2015</td>\n",
       "      <td>242</td>\n",
       "    </tr>\n",
       "    <tr>\n",
       "      <th>4</th>\n",
       "      <td>2014</td>\n",
       "      <td>242</td>\n",
       "    </tr>\n",
       "  </tbody>\n",
       "</table>\n",
       "</div>"
      ],
      "text/plain": [
       "   Year  count\n",
       "0  2018    242\n",
       "1  2017    242\n",
       "2  2016    242\n",
       "3  2015    242\n",
       "4  2014    242"
      ]
     },
     "execution_count": 39,
     "metadata": {},
     "output_type": "execute_result"
    }
   ],
   "source": [
    "year_observation.reset_index().head()"
   ]
  },
  {
   "cell_type": "code",
   "execution_count": 40,
   "id": "57454b8b",
   "metadata": {},
   "outputs": [
    {
     "data": {
      "text/html": [
       "<div>\n",
       "<style scoped>\n",
       "    .dataframe tbody tr th:only-of-type {\n",
       "        vertical-align: middle;\n",
       "    }\n",
       "\n",
       "    .dataframe tbody tr th {\n",
       "        vertical-align: top;\n",
       "    }\n",
       "\n",
       "    .dataframe thead th {\n",
       "        text-align: right;\n",
       "    }\n",
       "</style>\n",
       "<table border=\"1\" class=\"dataframe\">\n",
       "  <thead>\n",
       "    <tr style=\"text-align: right;\">\n",
       "      <th></th>\n",
       "      <th>observation</th>\n",
       "    </tr>\n",
       "    <tr>\n",
       "      <th>Year</th>\n",
       "      <th></th>\n",
       "    </tr>\n",
       "  </thead>\n",
       "  <tbody>\n",
       "    <tr>\n",
       "      <th>2018</th>\n",
       "      <td>242</td>\n",
       "    </tr>\n",
       "    <tr>\n",
       "      <th>2017</th>\n",
       "      <td>242</td>\n",
       "    </tr>\n",
       "    <tr>\n",
       "      <th>2016</th>\n",
       "      <td>242</td>\n",
       "    </tr>\n",
       "    <tr>\n",
       "      <th>2015</th>\n",
       "      <td>242</td>\n",
       "    </tr>\n",
       "    <tr>\n",
       "      <th>2014</th>\n",
       "      <td>242</td>\n",
       "    </tr>\n",
       "  </tbody>\n",
       "</table>\n",
       "</div>"
      ],
      "text/plain": [
       "      observation\n",
       "Year             \n",
       "2018          242\n",
       "2017          242\n",
       "2016          242\n",
       "2015          242\n",
       "2014          242"
      ]
     },
     "execution_count": 40,
     "metadata": {},
     "output_type": "execute_result"
    }
   ],
   "source": [
    "year_observation.rename(columns = {'count':'observation'}).head()"
   ]
  },
  {
   "cell_type": "code",
   "execution_count": 41,
   "id": "0f111df6",
   "metadata": {},
   "outputs": [
    {
     "data": {
      "text/plain": [
       "(31, 1)"
      ]
     },
     "execution_count": 41,
     "metadata": {},
     "output_type": "execute_result"
    }
   ],
   "source": [
    "year_observation.shape"
   ]
  },
  {
   "cell_type": "markdown",
   "id": "2529e7a5",
   "metadata": {},
   "source": [
    "       => as the year in progress the number of observation increased until 2018 then slightly decreased until 2020."
   ]
  },
  {
   "cell_type": "markdown",
   "id": "e1e35ce7",
   "metadata": {},
   "source": [
    "8. In this question, you're going to create some plots to show the distribution of GDP per capita for the year 2020. Go to the Python Graph Gallery (https://www.python-graph-gallery.com/) and look at the different types of plots under the Distribution section. Create a histogram, a density plot, a boxplot, and a violin plot. What do you notice when you look at these plots? How do the plots compare and what information can you get out of one type that you can't necessarily get out of the others?"
   ]
  },
  {
   "cell_type": "code",
   "execution_count": 42,
   "id": "c959c351",
   "metadata": {},
   "outputs": [],
   "source": [
    "    import matplotlib.pyplot as plt  \n",
    "    import seaborn as sns"
   ]
  },
  {
   "cell_type": "code",
   "execution_count": 43,
   "id": "25da1d41",
   "metadata": {
    "scrolled": false
   },
   "outputs": [
    {
     "data": {
      "text/html": [
       "<div>\n",
       "<style scoped>\n",
       "    .dataframe tbody tr th:only-of-type {\n",
       "        vertical-align: middle;\n",
       "    }\n",
       "\n",
       "    .dataframe tbody tr th {\n",
       "        vertical-align: top;\n",
       "    }\n",
       "\n",
       "    .dataframe thead th {\n",
       "        text-align: right;\n",
       "    }\n",
       "</style>\n",
       "<table border=\"1\" class=\"dataframe\">\n",
       "  <thead>\n",
       "    <tr style=\"text-align: right;\">\n",
       "      <th></th>\n",
       "      <th>Country</th>\n",
       "      <th>Year</th>\n",
       "      <th>GDP_Per_Capita</th>\n",
       "    </tr>\n",
       "  </thead>\n",
       "  <tbody>\n",
       "    <tr>\n",
       "      <th>0</th>\n",
       "      <td>Afghanistan</td>\n",
       "      <td>2020</td>\n",
       "      <td>1970.560169</td>\n",
       "    </tr>\n",
       "    <tr>\n",
       "      <th>19</th>\n",
       "      <td>Africa Eastern and Southern</td>\n",
       "      <td>2020</td>\n",
       "      <td>3491.978104</td>\n",
       "    </tr>\n",
       "    <tr>\n",
       "      <th>50</th>\n",
       "      <td>Africa Western and Central</td>\n",
       "      <td>2020</td>\n",
       "      <td>4021.293919</td>\n",
       "    </tr>\n",
       "    <tr>\n",
       "      <th>81</th>\n",
       "      <td>Albania</td>\n",
       "      <td>2020</td>\n",
       "      <td>13253.733337</td>\n",
       "    </tr>\n",
       "    <tr>\n",
       "      <th>112</th>\n",
       "      <td>Algeria</td>\n",
       "      <td>2020</td>\n",
       "      <td>10735.382539</td>\n",
       "    </tr>\n",
       "    <tr>\n",
       "      <th>...</th>\n",
       "      <td>...</td>\n",
       "      <td>...</td>\n",
       "      <td>...</td>\n",
       "    </tr>\n",
       "    <tr>\n",
       "      <th>7025</th>\n",
       "      <td>Vietnam</td>\n",
       "      <td>2020</td>\n",
       "      <td>10338.270543</td>\n",
       "    </tr>\n",
       "    <tr>\n",
       "      <th>7056</th>\n",
       "      <td>West Bank and Gaza</td>\n",
       "      <td>2020</td>\n",
       "      <td>5402.538773</td>\n",
       "    </tr>\n",
       "    <tr>\n",
       "      <th>7083</th>\n",
       "      <td>World</td>\n",
       "      <td>2020</td>\n",
       "      <td>16269.969854</td>\n",
       "    </tr>\n",
       "    <tr>\n",
       "      <th>7114</th>\n",
       "      <td>Zambia</td>\n",
       "      <td>2020</td>\n",
       "      <td>3277.816510</td>\n",
       "    </tr>\n",
       "    <tr>\n",
       "      <th>7145</th>\n",
       "      <td>Zimbabwe</td>\n",
       "      <td>2020</td>\n",
       "      <td>2134.555461</td>\n",
       "    </tr>\n",
       "  </tbody>\n",
       "</table>\n",
       "<p>240 rows × 3 columns</p>\n",
       "</div>"
      ],
      "text/plain": [
       "                          Country  Year  GDP_Per_Capita\n",
       "0                     Afghanistan  2020     1970.560169\n",
       "19    Africa Eastern and Southern  2020     3491.978104\n",
       "50     Africa Western and Central  2020     4021.293919\n",
       "81                        Albania  2020    13253.733337\n",
       "112                       Algeria  2020    10735.382539\n",
       "...                           ...   ...             ...\n",
       "7025                      Vietnam  2020    10338.270543\n",
       "7056           West Bank and Gaza  2020     5402.538773\n",
       "7083                        World  2020    16269.969854\n",
       "7114                       Zambia  2020     3277.816510\n",
       "7145                     Zimbabwe  2020     2134.555461\n",
       "\n",
       "[240 rows x 3 columns]"
      ]
     },
     "execution_count": 43,
     "metadata": {},
     "output_type": "execute_result"
    }
   ],
   "source": [
    "gdp_df.loc[gdp_df['Year'] == 2020]"
   ]
  },
  {
   "cell_type": "code",
   "execution_count": 44,
   "id": "98b179c3",
   "metadata": {},
   "outputs": [],
   "source": [
    "year2020 = gdp_df.loc[gdp_df['Year'] == 2020]"
   ]
  },
  {
   "cell_type": "code",
   "execution_count": 45,
   "id": "2343a4e4",
   "metadata": {},
   "outputs": [
    {
     "data": {
      "text/plain": [
       "0        1970.560169\n",
       "19       3491.978104\n",
       "50       4021.293919\n",
       "81      13253.733337\n",
       "112     10735.382539\n",
       "            ...     \n",
       "7025    10338.270543\n",
       "7056     5402.538773\n",
       "7083    16269.969854\n",
       "7114     3277.816510\n",
       "7145     2134.555461\n",
       "Name: GDP_Per_Capita, Length: 240, dtype: float64"
      ]
     },
     "execution_count": 45,
     "metadata": {},
     "output_type": "execute_result"
    }
   ],
   "source": [
    "year2020['GDP_Per_Capita']"
   ]
  },
  {
   "cell_type": "code",
   "execution_count": 46,
   "id": "143d993e",
   "metadata": {},
   "outputs": [
    {
     "data": {
      "text/plain": [
       "0        1970.560169\n",
       "19       3491.978104\n",
       "50       4021.293919\n",
       "81      13253.733337\n",
       "112     10735.382539\n",
       "            ...     \n",
       "7025    10338.270543\n",
       "7056     5402.538773\n",
       "7083    16269.969854\n",
       "7114     3277.816510\n",
       "7145     2134.555461\n",
       "Name: GDP_Per_Capita, Length: 240, dtype: float64"
      ]
     },
     "execution_count": 46,
     "metadata": {},
     "output_type": "execute_result"
    }
   ],
   "source": [
    "data2020 = year2020['GDP_Per_Capita']\n",
    "data2020"
   ]
  },
  {
   "cell_type": "markdown",
   "id": "ca7ea6cf",
   "metadata": {},
   "source": [
    "## Histogram Plot"
   ]
  },
  {
   "cell_type": "code",
   "execution_count": 47,
   "id": "68198986",
   "metadata": {},
   "outputs": [
    {
     "data": {
      "text/plain": [
       "<Axes: xlabel='GDP_Per_Capita', ylabel='Count'>"
      ]
     },
     "execution_count": 47,
     "metadata": {},
     "output_type": "execute_result"
    },
    {
     "data": {
      "image/png": "[encoded data removed]",
      "text/plain": [
       "<Figure size 640x480 with 1 Axes>"
      ]
     },
     "metadata": {},
     "output_type": "display_data"
    }
   ],
   "source": [
    "sns.histplot(data2020)"
   ]
  },
  {
   "cell_type": "markdown",
   "id": "b1793197",
   "metadata": {},
   "source": [
    "## Density plot"
   ]
  },
  {
   "cell_type": "code",
   "execution_count": 48,
   "id": "157d0008",
   "metadata": {},
   "outputs": [
    {
     "data": {
      "text/plain": [
       "<Axes: xlabel='GDP_Per_Capita', ylabel='Density'>"
      ]
     },
     "execution_count": 48,
     "metadata": {},
     "output_type": "execute_result"
    },
    {
     "data": {
      "image/png": "[encoded data removed]",
      "text/plain": [
       "<Figure size 640x480 with 1 Axes>"
      ]
     },
     "metadata": {},
     "output_type": "display_data"
    }
   ],
   "source": [
    "sns.kdeplot(data2020)"
   ]
  },
  {
   "cell_type": "markdown",
   "id": "3106f4b6",
   "metadata": {},
   "source": [
    "## Boxplot"
   ]
  },
  {
   "cell_type": "code",
   "execution_count": 49,
   "id": "ff0cc726",
   "metadata": {},
   "outputs": [
    {
     "data": {
      "text/plain": [
       "<Axes: >"
      ]
     },
     "execution_count": 49,
     "metadata": {},
     "output_type": "execute_result"
    },
    {
     "data": {
      "image/png": "[encoded data removed]",
      "text/plain": [
       "<Figure size 640x480 with 1 Axes>"
      ]
     },
     "metadata": {},
     "output_type": "display_data"
    }
   ],
   "source": [
    "sns.boxplot(data2020)"
   ]
  },
  {
   "cell_type": "markdown",
   "id": "c7533d5b",
   "metadata": {},
   "source": [
    "## violin plot"
   ]
  },
  {
   "cell_type": "code",
   "execution_count": 50,
   "id": "22cca47f",
   "metadata": {},
   "outputs": [
    {
     "data": {
      "text/plain": [
       "<Axes: >"
      ]
     },
     "execution_count": 50,
     "metadata": {},
     "output_type": "execute_result"
    },
    {
     "data": {
      "image/png": "[encoded data removed]",
      "text/plain": [
       "<Figure size 640x480 with 1 Axes>"
      ]
     },
     "metadata": {},
     "output_type": "display_data"
    }
   ],
   "source": [
    "sns.violinplot(data2020)"
   ]
  },
  {
   "cell_type": "markdown",
   "id": "aacdef35",
   "metadata": {},
   "source": [
    "      =>  when GDB-Per-Capita distribution is high, data distribution getting less and the vice-versa."
   ]
  },
  {
   "cell_type": "markdown",
   "id": "184e508d",
   "metadata": {},
   "source": [
    "9. What was the median GDP per capita value in 2020?"
   ]
  },
  {
   "cell_type": "code",
   "execution_count": 51,
   "id": "7f436e77",
   "metadata": {},
   "outputs": [
    {
     "data": {
      "text/plain": [
       "0        1970.560169\n",
       "19       3491.978104\n",
       "50       4021.293919\n",
       "81      13253.733337\n",
       "112     10735.382539\n",
       "            ...     \n",
       "7025    10338.270543\n",
       "7056     5402.538773\n",
       "7083    16269.969854\n",
       "7114     3277.816510\n",
       "7145     2134.555461\n",
       "Name: GDP_Per_Capita, Length: 240, dtype: float64"
      ]
     },
     "execution_count": 51,
     "metadata": {},
     "output_type": "execute_result"
    }
   ],
   "source": [
    "data2020"
   ]
  },
  {
   "cell_type": "code",
   "execution_count": 52,
   "id": "36113645",
   "metadata": {
    "scrolled": true
   },
   "outputs": [],
   "source": [
    "sorteddata = data2020.sort_values().to_frame"
   ]
  },
  {
   "cell_type": "code",
   "execution_count": 53,
   "id": "4d6d9979",
   "metadata": {},
   "outputs": [
    {
     "data": {
      "text/plain": [
       "<bound method Series.to_frame of 914        731.064074\n",
       "1136       937.856470\n",
       "1524      1082.445242\n",
       "5871      1180.965971\n",
       "4750      1221.269930\n",
       "            ...      \n",
       "639      76105.138057\n",
       "5381     85290.450430\n",
       "3071     90789.221024\n",
       "5720     94505.636160\n",
       "3882    112557.309472\n",
       "Name: GDP_Per_Capita, Length: 240, dtype: float64>"
      ]
     },
     "execution_count": 53,
     "metadata": {},
     "output_type": "execute_result"
    }
   ],
   "source": [
    "sorteddata"
   ]
  },
  {
   "cell_type": "code",
   "execution_count": 54,
   "id": "abb7462e",
   "metadata": {},
   "outputs": [
    {
     "data": {
      "text/plain": [
       "12908.94"
      ]
     },
     "execution_count": 54,
     "metadata": {},
     "output_type": "execute_result"
    }
   ],
   "source": [
    "round(data2020.median(),2)"
   ]
  },
  {
   "cell_type": "markdown",
   "id": "c96f879a",
   "metadata": {},
   "source": [
    "10. For this question, you're going to create some visualizations to compare GDP per capita values for the years 1990, 2000, 2010, and 2020. Start by subsetting your data to just these 4 years into a new DataFrame named gdp_decades. Using this, create the following 4 plots:\n",
    "\t* A boxplot\n",
    "\t* A barplot (check out the Barplot with Seaborn section: https://www.python-graph-gallery.com/barplot/#Seaborn)\n",
    "\t* A scatterplot\n",
    "\t* A scatterplot with a trend line overlaid (see this regplot example: https://www.python-graph-gallery.com/42-custom-linear-regression-"
   ]
  },
  {
   "cell_type": "code",
   "execution_count": 55,
   "id": "ba378690",
   "metadata": {
    "scrolled": true
   },
   "outputs": [
    {
     "data": {
      "text/plain": [
       "0       2020\n",
       "1       2019\n",
       "2       2018\n",
       "3       2017\n",
       "4       2016\n",
       "        ... \n",
       "7171    1994\n",
       "7172    1993\n",
       "7173    1992\n",
       "7174    1991\n",
       "7175    1990\n",
       "Name: Year, Length: 7176, dtype: int64"
      ]
     },
     "execution_count": 55,
     "metadata": {},
     "output_type": "execute_result"
    }
   ],
   "source": [
    "gdp_df['Year']"
   ]
  },
  {
   "cell_type": "code",
   "execution_count": 56,
   "id": "4098217d",
   "metadata": {},
   "outputs": [],
   "source": [
    "decade_Years = [1990,2000,2010,2020]"
   ]
  },
  {
   "cell_type": "code",
   "execution_count": 57,
   "id": "9682fcd7",
   "metadata": {
    "scrolled": true
   },
   "outputs": [],
   "source": [
    "gdp_decades = gdp_df.query('Year in @ decade_Years')"
   ]
  },
  {
   "cell_type": "code",
   "execution_count": 58,
   "id": "555eec14",
   "metadata": {},
   "outputs": [
    {
     "data": {
      "text/html": [
       "<div>\n",
       "<style scoped>\n",
       "    .dataframe tbody tr th:only-of-type {\n",
       "        vertical-align: middle;\n",
       "    }\n",
       "\n",
       "    .dataframe tbody tr th {\n",
       "        vertical-align: top;\n",
       "    }\n",
       "\n",
       "    .dataframe thead th {\n",
       "        text-align: right;\n",
       "    }\n",
       "</style>\n",
       "<table border=\"1\" class=\"dataframe\">\n",
       "  <thead>\n",
       "    <tr style=\"text-align: right;\">\n",
       "      <th></th>\n",
       "      <th>Country</th>\n",
       "      <th>Year</th>\n",
       "      <th>GDP_Per_Capita</th>\n",
       "    </tr>\n",
       "  </thead>\n",
       "  <tbody>\n",
       "    <tr>\n",
       "      <th>0</th>\n",
       "      <td>Afghanistan</td>\n",
       "      <td>2020</td>\n",
       "      <td>1970.560169</td>\n",
       "    </tr>\n",
       "    <tr>\n",
       "      <th>10</th>\n",
       "      <td>Afghanistan</td>\n",
       "      <td>2010</td>\n",
       "      <td>1957.029070</td>\n",
       "    </tr>\n",
       "    <tr>\n",
       "      <th>19</th>\n",
       "      <td>Africa Eastern and Southern</td>\n",
       "      <td>2020</td>\n",
       "      <td>3491.978104</td>\n",
       "    </tr>\n",
       "    <tr>\n",
       "      <th>29</th>\n",
       "      <td>Africa Eastern and Southern</td>\n",
       "      <td>2010</td>\n",
       "      <td>3545.205203</td>\n",
       "    </tr>\n",
       "    <tr>\n",
       "      <th>39</th>\n",
       "      <td>Africa Eastern and Southern</td>\n",
       "      <td>2000</td>\n",
       "      <td>2915.472987</td>\n",
       "    </tr>\n",
       "    <tr>\n",
       "      <th>...</th>\n",
       "      <td>...</td>\n",
       "      <td>...</td>\n",
       "      <td>...</td>\n",
       "    </tr>\n",
       "    <tr>\n",
       "      <th>7144</th>\n",
       "      <td>Zambia</td>\n",
       "      <td>1990</td>\n",
       "      <td>2190.181724</td>\n",
       "    </tr>\n",
       "    <tr>\n",
       "      <th>7145</th>\n",
       "      <td>Zimbabwe</td>\n",
       "      <td>2020</td>\n",
       "      <td>2134.555461</td>\n",
       "    </tr>\n",
       "    <tr>\n",
       "      <th>7155</th>\n",
       "      <td>Zimbabwe</td>\n",
       "      <td>2010</td>\n",
       "      <td>1813.531764</td>\n",
       "    </tr>\n",
       "    <tr>\n",
       "      <th>7165</th>\n",
       "      <td>Zimbabwe</td>\n",
       "      <td>2000</td>\n",
       "      <td>2771.060576</td>\n",
       "    </tr>\n",
       "    <tr>\n",
       "      <th>7175</th>\n",
       "      <td>Zimbabwe</td>\n",
       "      <td>1990</td>\n",
       "      <td>2652.129209</td>\n",
       "    </tr>\n",
       "  </tbody>\n",
       "</table>\n",
       "<p>918 rows × 3 columns</p>\n",
       "</div>"
      ],
      "text/plain": [
       "                          Country  Year  GDP_Per_Capita\n",
       "0                     Afghanistan  2020     1970.560169\n",
       "10                    Afghanistan  2010     1957.029070\n",
       "19    Africa Eastern and Southern  2020     3491.978104\n",
       "29    Africa Eastern and Southern  2010     3545.205203\n",
       "39    Africa Eastern and Southern  2000     2915.472987\n",
       "...                           ...   ...             ...\n",
       "7144                       Zambia  1990     2190.181724\n",
       "7145                     Zimbabwe  2020     2134.555461\n",
       "7155                     Zimbabwe  2010     1813.531764\n",
       "7165                     Zimbabwe  2000     2771.060576\n",
       "7175                     Zimbabwe  1990     2652.129209\n",
       "\n",
       "[918 rows x 3 columns]"
      ]
     },
     "execution_count": 58,
     "metadata": {},
     "output_type": "execute_result"
    }
   ],
   "source": [
    "gdp_decades"
   ]
  },
  {
   "cell_type": "markdown",
   "id": "cc394206",
   "metadata": {},
   "source": [
    "Boxplot"
   ]
  },
  {
   "cell_type": "code",
   "execution_count": 59,
   "id": "79ff3f7b",
   "metadata": {},
   "outputs": [],
   "source": [
    "# sns.boxplot( x=df[\"species\"], y=df[\"sepal_length\"] )"
   ]
  },
  {
   "cell_type": "code",
   "execution_count": 60,
   "id": "c4e251d3",
   "metadata": {},
   "outputs": [
    {
     "data": {
      "text/plain": [
       "<Axes: xlabel='Year', ylabel='GDP_Per_Capita'>"
      ]
     },
     "execution_count": 60,
     "metadata": {},
     "output_type": "execute_result"
    },
    {
     "data": {
      "image/png": "[encoded data removed]",
      "text/plain": [
       "<Figure size 640x480 with 1 Axes>"
      ]
     },
     "metadata": {},
     "output_type": "display_data"
    }
   ],
   "source": [
    "sns.boxplot(x = gdp_decades['Year'] ,\n",
    "            y = gdp_decades['GDP_Per_Capita'])"
   ]
  },
  {
   "cell_type": "markdown",
   "id": "dcc893f5",
   "metadata": {},
   "source": [
    "Barplot"
   ]
  },
  {
   "cell_type": "code",
   "execution_count": 61,
   "id": "44d47e19",
   "metadata": {},
   "outputs": [
    {
     "data": {
      "image/png": "[encoded data removed]",
      "text/plain": [
       "<Figure size 640x480 with 1 Axes>"
      ]
     },
     "metadata": {},
     "output_type": "display_data"
    }
   ],
   "source": [
    "sns.barplot(\n",
    "    y='GDP_Per_Capita', \n",
    "    x='Year', \n",
    "    data=gdp_decades); "
   ]
  },
  {
   "cell_type": "markdown",
   "id": "462c662f",
   "metadata": {},
   "source": [
    "scatterplot "
   ]
  },
  {
   "cell_type": "code",
   "execution_count": 62,
   "id": "053447dd",
   "metadata": {},
   "outputs": [],
   "source": [
    "# plt.scatter(x , y, data  )\n",
    "# plt.xlabel()\n",
    "# plt.ylabel();"
   ]
  },
  {
   "cell_type": "code",
   "execution_count": 63,
   "id": "9c62e6e9",
   "metadata": {},
   "outputs": [
    {
     "data": {
      "image/png": "[encoded data removed]",
      "text/plain": [
       "<Figure size 640x480 with 1 Axes>"
      ]
     },
     "metadata": {},
     "output_type": "display_data"
    }
   ],
   "source": [
    "plt.scatter(x = 'Year', y ='GDP_Per_Capita', data = gdp_decades)\n",
    "plt.xlabel('Year')\n",
    "plt.ylabel('GDP_Per_Capita');"
   ]
  },
  {
   "cell_type": "markdown",
   "id": "9083c6ed",
   "metadata": {},
   "source": [
    "scatterplot with a trend line overlaid"
   ]
  },
  {
   "cell_type": "code",
   "execution_count": 64,
   "id": "f3ff6ea6",
   "metadata": {},
   "outputs": [],
   "source": [
    "# sns.regplot(x=df[\"sepal_length\"], y=df[\"sepal_width\"], line_kws={\"color\":\"r\",\"alpha\":0.7,\"lw\":5})\n",
    "# plt.show()"
   ]
  },
  {
   "cell_type": "code",
   "execution_count": 65,
   "id": "3071294d",
   "metadata": {},
   "outputs": [
    {
     "data": {
      "image/png": "[encoded data removed]",
      "text/plain": [
       "<Figure size 640x480 with 1 Axes>"
      ]
     },
     "metadata": {},
     "output_type": "display_data"
    }
   ],
   "source": [
    "sns.regplot(x=gdp_decades['Year'], y=gdp_decades['GDP_Per_Capita'],line_kws={\"color\":\"g\",\"alpha\":0.7,\"lw\":5})\n",
    "plt.show()"
   ]
  },
  {
   "cell_type": "markdown",
   "id": "fd812b4e",
   "metadata": {},
   "source": [
    "** Comment on what you observe has happened to GDP values over time and the relative strengths and weaknesses of each type of plot.\n"
   ]
  },
  {
   "cell_type": "code",
   "execution_count": null,
   "id": "c0e177fd",
   "metadata": {},
   "outputs": [],
   "source": []
  },
  {
   "cell_type": "markdown",
   "id": "08c8ebad",
   "metadata": {},
   "source": [
    "11. Which country was the first to have a GDP per capita greater than $100,000?"
   ]
  },
  {
   "cell_type": "code",
   "execution_count": 66,
   "id": "46d04107",
   "metadata": {},
   "outputs": [
    {
     "data": {
      "text/html": [
       "<div>\n",
       "<style scoped>\n",
       "    .dataframe tbody tr th:only-of-type {\n",
       "        vertical-align: middle;\n",
       "    }\n",
       "\n",
       "    .dataframe tbody tr th {\n",
       "        vertical-align: top;\n",
       "    }\n",
       "\n",
       "    .dataframe thead th {\n",
       "        text-align: right;\n",
       "    }\n",
       "</style>\n",
       "<table border=\"1\" class=\"dataframe\">\n",
       "  <thead>\n",
       "    <tr style=\"text-align: right;\">\n",
       "      <th></th>\n",
       "      <th>Country</th>\n",
       "      <th>Year</th>\n",
       "      <th>GDP_Per_Capita</th>\n",
       "    </tr>\n",
       "  </thead>\n",
       "  <tbody>\n",
       "    <tr>\n",
       "      <th>0</th>\n",
       "      <td>Afghanistan</td>\n",
       "      <td>2020</td>\n",
       "      <td>1970.560169</td>\n",
       "    </tr>\n",
       "    <tr>\n",
       "      <th>1</th>\n",
       "      <td>Afghanistan</td>\n",
       "      <td>2019</td>\n",
       "      <td>2065.036235</td>\n",
       "    </tr>\n",
       "    <tr>\n",
       "      <th>2</th>\n",
       "      <td>Afghanistan</td>\n",
       "      <td>2018</td>\n",
       "      <td>2033.804389</td>\n",
       "    </tr>\n",
       "    <tr>\n",
       "      <th>3</th>\n",
       "      <td>Afghanistan</td>\n",
       "      <td>2017</td>\n",
       "      <td>2058.400221</td>\n",
       "    </tr>\n",
       "    <tr>\n",
       "      <th>4</th>\n",
       "      <td>Afghanistan</td>\n",
       "      <td>2016</td>\n",
       "      <td>2057.067978</td>\n",
       "    </tr>\n",
       "    <tr>\n",
       "      <th>...</th>\n",
       "      <td>...</td>\n",
       "      <td>...</td>\n",
       "      <td>...</td>\n",
       "    </tr>\n",
       "    <tr>\n",
       "      <th>7171</th>\n",
       "      <td>Zimbabwe</td>\n",
       "      <td>1994</td>\n",
       "      <td>2603.927369</td>\n",
       "    </tr>\n",
       "    <tr>\n",
       "      <th>7172</th>\n",
       "      <td>Zimbabwe</td>\n",
       "      <td>1993</td>\n",
       "      <td>2420.092791</td>\n",
       "    </tr>\n",
       "    <tr>\n",
       "      <th>7173</th>\n",
       "      <td>Zimbabwe</td>\n",
       "      <td>1992</td>\n",
       "      <td>2437.152908</td>\n",
       "    </tr>\n",
       "    <tr>\n",
       "      <th>7174</th>\n",
       "      <td>Zimbabwe</td>\n",
       "      <td>1991</td>\n",
       "      <td>2733.696626</td>\n",
       "    </tr>\n",
       "    <tr>\n",
       "      <th>7175</th>\n",
       "      <td>Zimbabwe</td>\n",
       "      <td>1990</td>\n",
       "      <td>2652.129209</td>\n",
       "    </tr>\n",
       "  </tbody>\n",
       "</table>\n",
       "<p>7176 rows × 3 columns</p>\n",
       "</div>"
      ],
      "text/plain": [
       "          Country  Year  GDP_Per_Capita\n",
       "0     Afghanistan  2020     1970.560169\n",
       "1     Afghanistan  2019     2065.036235\n",
       "2     Afghanistan  2018     2033.804389\n",
       "3     Afghanistan  2017     2058.400221\n",
       "4     Afghanistan  2016     2057.067978\n",
       "...           ...   ...             ...\n",
       "7171     Zimbabwe  1994     2603.927369\n",
       "7172     Zimbabwe  1993     2420.092791\n",
       "7173     Zimbabwe  1992     2437.152908\n",
       "7174     Zimbabwe  1991     2733.696626\n",
       "7175     Zimbabwe  1990     2652.129209\n",
       "\n",
       "[7176 rows x 3 columns]"
      ]
     },
     "execution_count": 66,
     "metadata": {},
     "output_type": "execute_result"
    }
   ],
   "source": [
    "gdp_df"
   ]
  },
  {
   "cell_type": "code",
   "execution_count": 67,
   "id": "db9dc0d9",
   "metadata": {},
   "outputs": [
    {
     "data": {
      "text/html": [
       "<div>\n",
       "<style scoped>\n",
       "    .dataframe tbody tr th:only-of-type {\n",
       "        vertical-align: middle;\n",
       "    }\n",
       "\n",
       "    .dataframe tbody tr th {\n",
       "        vertical-align: top;\n",
       "    }\n",
       "\n",
       "    .dataframe thead th {\n",
       "        text-align: right;\n",
       "    }\n",
       "</style>\n",
       "<table border=\"1\" class=\"dataframe\">\n",
       "  <thead>\n",
       "    <tr style=\"text-align: right;\">\n",
       "      <th></th>\n",
       "      <th>Country</th>\n",
       "      <th>Year</th>\n",
       "      <th>GDP_Per_Capita</th>\n",
       "    </tr>\n",
       "  </thead>\n",
       "  <tbody>\n",
       "    <tr>\n",
       "      <th>6833</th>\n",
       "      <td>United Arab Emirates</td>\n",
       "      <td>1995</td>\n",
       "      <td>101570.992100</td>\n",
       "    </tr>\n",
       "    <tr>\n",
       "      <th>6834</th>\n",
       "      <td>United Arab Emirates</td>\n",
       "      <td>1994</td>\n",
       "      <td>100213.156226</td>\n",
       "    </tr>\n",
       "    <tr>\n",
       "      <th>6836</th>\n",
       "      <td>United Arab Emirates</td>\n",
       "      <td>1992</td>\n",
       "      <td>103470.924576</td>\n",
       "    </tr>\n",
       "    <tr>\n",
       "      <th>6837</th>\n",
       "      <td>United Arab Emirates</td>\n",
       "      <td>1991</td>\n",
       "      <td>106103.552655</td>\n",
       "    </tr>\n",
       "    <tr>\n",
       "      <th>6838</th>\n",
       "      <td>United Arab Emirates</td>\n",
       "      <td>1990</td>\n",
       "      <td>111454.055665</td>\n",
       "    </tr>\n",
       "  </tbody>\n",
       "</table>\n",
       "</div>"
      ],
      "text/plain": [
       "                   Country  Year  GDP_Per_Capita\n",
       "6833  United Arab Emirates  1995   101570.992100\n",
       "6834  United Arab Emirates  1994   100213.156226\n",
       "6836  United Arab Emirates  1992   103470.924576\n",
       "6837  United Arab Emirates  1991   106103.552655\n",
       "6838  United Arab Emirates  1990   111454.055665"
      ]
     },
     "execution_count": 67,
     "metadata": {},
     "output_type": "execute_result"
    }
   ],
   "source": [
    "GDP_Per_Capita_above100k = gdp_df.query('GDP_Per_Capita > 100000')\n",
    "GDP_Per_Capita_above100k.tail()"
   ]
  },
  {
   "cell_type": "markdown",
   "id": "8c0f2de8",
   "metadata": {},
   "source": [
    "     => United Arab Emirates was the first to have GDP Per Capita greater than 100000., which is 111,454.055665 in 1990."
   ]
  },
  {
   "cell_type": "markdown",
   "id": "95397ccb",
   "metadata": {},
   "source": [
    "12. Which country had the highest GDP per capita in 2020? Create a plot showing how this country's GDP per capita has changed over the timespan of the dataset."
   ]
  },
  {
   "cell_type": "code",
   "execution_count": 68,
   "id": "a0cc427a",
   "metadata": {},
   "outputs": [
    {
     "data": {
      "text/html": [
       "<div>\n",
       "<style scoped>\n",
       "    .dataframe tbody tr th:only-of-type {\n",
       "        vertical-align: middle;\n",
       "    }\n",
       "\n",
       "    .dataframe tbody tr th {\n",
       "        vertical-align: top;\n",
       "    }\n",
       "\n",
       "    .dataframe thead th {\n",
       "        text-align: right;\n",
       "    }\n",
       "</style>\n",
       "<table border=\"1\" class=\"dataframe\">\n",
       "  <thead>\n",
       "    <tr style=\"text-align: right;\">\n",
       "      <th></th>\n",
       "      <th>Country</th>\n",
       "      <th>Year</th>\n",
       "      <th>GDP_Per_Capita</th>\n",
       "    </tr>\n",
       "  </thead>\n",
       "  <tbody>\n",
       "    <tr>\n",
       "      <th>0</th>\n",
       "      <td>Afghanistan</td>\n",
       "      <td>2020</td>\n",
       "      <td>1970.560169</td>\n",
       "    </tr>\n",
       "    <tr>\n",
       "      <th>19</th>\n",
       "      <td>Africa Eastern and Southern</td>\n",
       "      <td>2020</td>\n",
       "      <td>3491.978104</td>\n",
       "    </tr>\n",
       "    <tr>\n",
       "      <th>50</th>\n",
       "      <td>Africa Western and Central</td>\n",
       "      <td>2020</td>\n",
       "      <td>4021.293919</td>\n",
       "    </tr>\n",
       "    <tr>\n",
       "      <th>81</th>\n",
       "      <td>Albania</td>\n",
       "      <td>2020</td>\n",
       "      <td>13253.733337</td>\n",
       "    </tr>\n",
       "    <tr>\n",
       "      <th>112</th>\n",
       "      <td>Algeria</td>\n",
       "      <td>2020</td>\n",
       "      <td>10735.382539</td>\n",
       "    </tr>\n",
       "  </tbody>\n",
       "</table>\n",
       "</div>"
      ],
      "text/plain": [
       "                         Country  Year  GDP_Per_Capita\n",
       "0                    Afghanistan  2020     1970.560169\n",
       "19   Africa Eastern and Southern  2020     3491.978104\n",
       "50    Africa Western and Central  2020     4021.293919\n",
       "81                       Albania  2020    13253.733337\n",
       "112                      Algeria  2020    10735.382539"
      ]
     },
     "execution_count": 68,
     "metadata": {},
     "output_type": "execute_result"
    }
   ],
   "source": [
    "year2020 = gdp_df.query('Year == 2020')\n",
    "year2020.head()"
   ]
  },
  {
   "cell_type": "code",
   "execution_count": 69,
   "id": "25de63e4",
   "metadata": {},
   "outputs": [
    {
     "data": {
      "text/html": [
       "<div>\n",
       "<style scoped>\n",
       "    .dataframe tbody tr th:only-of-type {\n",
       "        vertical-align: middle;\n",
       "    }\n",
       "\n",
       "    .dataframe tbody tr th {\n",
       "        vertical-align: top;\n",
       "    }\n",
       "\n",
       "    .dataframe thead th {\n",
       "        text-align: right;\n",
       "    }\n",
       "</style>\n",
       "<table border=\"1\" class=\"dataframe\">\n",
       "  <thead>\n",
       "    <tr style=\"text-align: right;\">\n",
       "      <th></th>\n",
       "      <th>Country</th>\n",
       "      <th>Year</th>\n",
       "      <th>GDP_Per_Capita</th>\n",
       "    </tr>\n",
       "  </thead>\n",
       "  <tbody>\n",
       "    <tr>\n",
       "      <th>0</th>\n",
       "      <td>Afghanistan</td>\n",
       "      <td>2020</td>\n",
       "      <td>1970.560169</td>\n",
       "    </tr>\n",
       "    <tr>\n",
       "      <th>19</th>\n",
       "      <td>Africa Eastern and Southern</td>\n",
       "      <td>2020</td>\n",
       "      <td>3491.978104</td>\n",
       "    </tr>\n",
       "    <tr>\n",
       "      <th>50</th>\n",
       "      <td>Africa Western and Central</td>\n",
       "      <td>2020</td>\n",
       "      <td>4021.293919</td>\n",
       "    </tr>\n",
       "    <tr>\n",
       "      <th>81</th>\n",
       "      <td>Albania</td>\n",
       "      <td>2020</td>\n",
       "      <td>13253.733337</td>\n",
       "    </tr>\n",
       "    <tr>\n",
       "      <th>112</th>\n",
       "      <td>Algeria</td>\n",
       "      <td>2020</td>\n",
       "      <td>10735.382539</td>\n",
       "    </tr>\n",
       "  </tbody>\n",
       "</table>\n",
       "</div>"
      ],
      "text/plain": [
       "                         Country  Year  GDP_Per_Capita\n",
       "0                    Afghanistan  2020     1970.560169\n",
       "19   Africa Eastern and Southern  2020     3491.978104\n",
       "50    Africa Western and Central  2020     4021.293919\n",
       "81                       Albania  2020    13253.733337\n",
       "112                      Algeria  2020    10735.382539"
      ]
     },
     "execution_count": 69,
     "metadata": {},
     "output_type": "execute_result"
    }
   ],
   "source": [
    "# Or  I can use .loc\n",
    "year2020 = gdp_df.loc[gdp_df['Year'] == 2020]\n",
    "year2020.head()"
   ]
  },
  {
   "cell_type": "code",
   "execution_count": 70,
   "id": "1fbfb2c6",
   "metadata": {},
   "outputs": [
    {
     "data": {
      "text/html": [
       "<div>\n",
       "<style scoped>\n",
       "    .dataframe tbody tr th:only-of-type {\n",
       "        vertical-align: middle;\n",
       "    }\n",
       "\n",
       "    .dataframe tbody tr th {\n",
       "        vertical-align: top;\n",
       "    }\n",
       "\n",
       "    .dataframe thead th {\n",
       "        text-align: right;\n",
       "    }\n",
       "</style>\n",
       "<table border=\"1\" class=\"dataframe\">\n",
       "  <thead>\n",
       "    <tr style=\"text-align: right;\">\n",
       "      <th></th>\n",
       "      <th>Country</th>\n",
       "      <th>Year</th>\n",
       "      <th>GDP_Per_Capita</th>\n",
       "    </tr>\n",
       "  </thead>\n",
       "  <tbody>\n",
       "    <tr>\n",
       "      <th>3882</th>\n",
       "      <td>Luxembourg</td>\n",
       "      <td>2020</td>\n",
       "      <td>112557.309472</td>\n",
       "    </tr>\n",
       "    <tr>\n",
       "      <th>5720</th>\n",
       "      <td>Singapore</td>\n",
       "      <td>2020</td>\n",
       "      <td>94505.636160</td>\n",
       "    </tr>\n",
       "    <tr>\n",
       "      <th>3071</th>\n",
       "      <td>Ireland</td>\n",
       "      <td>2020</td>\n",
       "      <td>90789.221024</td>\n",
       "    </tr>\n",
       "    <tr>\n",
       "      <th>5381</th>\n",
       "      <td>Qatar</td>\n",
       "      <td>2020</td>\n",
       "      <td>85290.450430</td>\n",
       "    </tr>\n",
       "    <tr>\n",
       "      <th>639</th>\n",
       "      <td>Bermuda</td>\n",
       "      <td>2020</td>\n",
       "      <td>76105.138057</td>\n",
       "    </tr>\n",
       "    <tr>\n",
       "      <th>...</th>\n",
       "      <td>...</td>\n",
       "      <td>...</td>\n",
       "      <td>...</td>\n",
       "    </tr>\n",
       "    <tr>\n",
       "      <th>4750</th>\n",
       "      <td>Niger</td>\n",
       "      <td>2020</td>\n",
       "      <td>1221.269930</td>\n",
       "    </tr>\n",
       "    <tr>\n",
       "      <th>5871</th>\n",
       "      <td>Somalia</td>\n",
       "      <td>2020</td>\n",
       "      <td>1180.965971</td>\n",
       "    </tr>\n",
       "    <tr>\n",
       "      <th>1524</th>\n",
       "      <td>Dem. Rep. Congo</td>\n",
       "      <td>2020</td>\n",
       "      <td>1082.445242</td>\n",
       "    </tr>\n",
       "    <tr>\n",
       "      <th>1136</th>\n",
       "      <td>Central African Republic</td>\n",
       "      <td>2020</td>\n",
       "      <td>937.856470</td>\n",
       "    </tr>\n",
       "    <tr>\n",
       "      <th>914</th>\n",
       "      <td>Burundi</td>\n",
       "      <td>2020</td>\n",
       "      <td>731.064074</td>\n",
       "    </tr>\n",
       "  </tbody>\n",
       "</table>\n",
       "<p>240 rows × 3 columns</p>\n",
       "</div>"
      ],
      "text/plain": [
       "                       Country  Year  GDP_Per_Capita\n",
       "3882                Luxembourg  2020   112557.309472\n",
       "5720                 Singapore  2020    94505.636160\n",
       "3071                   Ireland  2020    90789.221024\n",
       "5381                     Qatar  2020    85290.450430\n",
       "639                    Bermuda  2020    76105.138057\n",
       "...                        ...   ...             ...\n",
       "4750                     Niger  2020     1221.269930\n",
       "5871                   Somalia  2020     1180.965971\n",
       "1524           Dem. Rep. Congo  2020     1082.445242\n",
       "1136  Central African Republic  2020      937.856470\n",
       "914                    Burundi  2020      731.064074\n",
       "\n",
       "[240 rows x 3 columns]"
      ]
     },
     "execution_count": 70,
     "metadata": {},
     "output_type": "execute_result"
    }
   ],
   "source": [
    "year2020.sort_values(by ='GDP_Per_Capita', ascending = False)"
   ]
  },
  {
   "cell_type": "markdown",
   "id": "0d5f25e9",
   "metadata": {},
   "source": [
    "     =>  Luxembourg had the highest GDP per Capita in 2020."
   ]
  },
  {
   "cell_type": "markdown",
   "id": "9927e57b",
   "metadata": {},
   "source": [
    " ** Create a plot showing how this country's GDP per capita has changed over the timespan of the dataset."
   ]
  },
  {
   "cell_type": "code",
   "execution_count": 71,
   "id": "07635f82",
   "metadata": {},
   "outputs": [
    {
     "data": {
      "text/html": [
       "<div>\n",
       "<style scoped>\n",
       "    .dataframe tbody tr th:only-of-type {\n",
       "        vertical-align: middle;\n",
       "    }\n",
       "\n",
       "    .dataframe tbody tr th {\n",
       "        vertical-align: top;\n",
       "    }\n",
       "\n",
       "    .dataframe thead th {\n",
       "        text-align: right;\n",
       "    }\n",
       "</style>\n",
       "<table border=\"1\" class=\"dataframe\">\n",
       "  <thead>\n",
       "    <tr style=\"text-align: right;\">\n",
       "      <th></th>\n",
       "      <th>Country</th>\n",
       "      <th>Year</th>\n",
       "      <th>GDP_Per_Capita</th>\n",
       "    </tr>\n",
       "  </thead>\n",
       "  <tbody>\n",
       "    <tr>\n",
       "      <th>3882</th>\n",
       "      <td>Luxembourg</td>\n",
       "      <td>2020</td>\n",
       "      <td>112557.309472</td>\n",
       "    </tr>\n",
       "    <tr>\n",
       "      <th>3883</th>\n",
       "      <td>Luxembourg</td>\n",
       "      <td>2019</td>\n",
       "      <td>116518.276815</td>\n",
       "    </tr>\n",
       "    <tr>\n",
       "      <th>3884</th>\n",
       "      <td>Luxembourg</td>\n",
       "      <td>2018</td>\n",
       "      <td>115049.926079</td>\n",
       "    </tr>\n",
       "    <tr>\n",
       "      <th>3885</th>\n",
       "      <td>Luxembourg</td>\n",
       "      <td>2017</td>\n",
       "      <td>114985.842236</td>\n",
       "    </tr>\n",
       "    <tr>\n",
       "      <th>3886</th>\n",
       "      <td>Luxembourg</td>\n",
       "      <td>2016</td>\n",
       "      <td>116283.699681</td>\n",
       "    </tr>\n",
       "  </tbody>\n",
       "</table>\n",
       "</div>"
      ],
      "text/plain": [
       "         Country  Year  GDP_Per_Capita\n",
       "3882  Luxembourg  2020   112557.309472\n",
       "3883  Luxembourg  2019   116518.276815\n",
       "3884  Luxembourg  2018   115049.926079\n",
       "3885  Luxembourg  2017   114985.842236\n",
       "3886  Luxembourg  2016   116283.699681"
      ]
     },
     "execution_count": 71,
     "metadata": {},
     "output_type": "execute_result"
    }
   ],
   "source": [
    "Luxembourg_throughyears = gdp_df.loc[gdp_df['Country'] == 'Luxembourg']\n",
    "Luxembourg_throughyears.head()"
   ]
  },
  {
   "cell_type": "code",
   "execution_count": 72,
   "id": "a8e1904c",
   "metadata": {},
   "outputs": [
    {
     "data": {
      "image/png": "[encoded data removed]",
      "text/plain": [
       "<Figure size 640x480 with 1 Axes>"
      ]
     },
     "metadata": {},
     "output_type": "display_data"
    }
   ],
   "source": [
    "# I use df.plot('x', 'y') \n",
    "#        plt.show()\n",
    "Luxembourg_throughyears.plot('Year', 'GDP_Per_Capita')\n",
    "plt.show()"
   ]
  },
  {
   "cell_type": "markdown",
   "id": "60ce1985",
   "metadata": {},
   "source": [
    "13. Which country had the lowest GDP per capita in 2020? Create a plot showing how this country's GDP per capita has changed over the timespan of the dataset. **Bonus question:** Is it true in general that coutries had a higher GDP per capita in 2020 than in 1990? Which countries had lower GDP per capita in 2020 than in 1990?"
   ]
  },
  {
   "cell_type": "code",
   "execution_count": 73,
   "id": "db8702a2",
   "metadata": {},
   "outputs": [
    {
     "data": {
      "text/html": [
       "<div>\n",
       "<style scoped>\n",
       "    .dataframe tbody tr th:only-of-type {\n",
       "        vertical-align: middle;\n",
       "    }\n",
       "\n",
       "    .dataframe tbody tr th {\n",
       "        vertical-align: top;\n",
       "    }\n",
       "\n",
       "    .dataframe thead th {\n",
       "        text-align: right;\n",
       "    }\n",
       "</style>\n",
       "<table border=\"1\" class=\"dataframe\">\n",
       "  <thead>\n",
       "    <tr style=\"text-align: right;\">\n",
       "      <th></th>\n",
       "      <th>Country</th>\n",
       "      <th>Year</th>\n",
       "      <th>GDP_Per_Capita</th>\n",
       "    </tr>\n",
       "  </thead>\n",
       "  <tbody>\n",
       "    <tr>\n",
       "      <th>914</th>\n",
       "      <td>Burundi</td>\n",
       "      <td>2020</td>\n",
       "      <td>731.064074</td>\n",
       "    </tr>\n",
       "    <tr>\n",
       "      <th>1136</th>\n",
       "      <td>Central African Republic</td>\n",
       "      <td>2020</td>\n",
       "      <td>937.856470</td>\n",
       "    </tr>\n",
       "    <tr>\n",
       "      <th>1524</th>\n",
       "      <td>Dem. Rep. Congo</td>\n",
       "      <td>2020</td>\n",
       "      <td>1082.445242</td>\n",
       "    </tr>\n",
       "    <tr>\n",
       "      <th>5871</th>\n",
       "      <td>Somalia</td>\n",
       "      <td>2020</td>\n",
       "      <td>1180.965971</td>\n",
       "    </tr>\n",
       "    <tr>\n",
       "      <th>4750</th>\n",
       "      <td>Niger</td>\n",
       "      <td>2020</td>\n",
       "      <td>1221.269930</td>\n",
       "    </tr>\n",
       "  </tbody>\n",
       "</table>\n",
       "</div>"
      ],
      "text/plain": [
       "                       Country  Year  GDP_Per_Capita\n",
       "914                    Burundi  2020      731.064074\n",
       "1136  Central African Republic  2020      937.856470\n",
       "1524           Dem. Rep. Congo  2020     1082.445242\n",
       "5871                   Somalia  2020     1180.965971\n",
       "4750                     Niger  2020     1221.269930"
      ]
     },
     "execution_count": 73,
     "metadata": {},
     "output_type": "execute_result"
    }
   ],
   "source": [
    "data2020 =gdp_df.loc[gdp_df['Year'] == 2020].sort_values(by = 'GDP_Per_Capita', ascending =  True)\n",
    "data2020.head()"
   ]
  },
  {
   "cell_type": "markdown",
   "id": "427f3433",
   "metadata": {},
   "source": [
    "        => Burundi had the lowest GDP per capita in 2020."
   ]
  },
  {
   "cell_type": "markdown",
   "id": "89e5bb3f",
   "metadata": {},
   "source": [
    "** Create a plot showing how this country's GDP per capita has changed over the timespan of the dataset."
   ]
  },
  {
   "cell_type": "code",
   "execution_count": 74,
   "id": "3874f341",
   "metadata": {},
   "outputs": [
    {
     "data": {
      "text/html": [
       "<div>\n",
       "<style scoped>\n",
       "    .dataframe tbody tr th:only-of-type {\n",
       "        vertical-align: middle;\n",
       "    }\n",
       "\n",
       "    .dataframe tbody tr th {\n",
       "        vertical-align: top;\n",
       "    }\n",
       "\n",
       "    .dataframe thead th {\n",
       "        text-align: right;\n",
       "    }\n",
       "</style>\n",
       "<table border=\"1\" class=\"dataframe\">\n",
       "  <thead>\n",
       "    <tr style=\"text-align: right;\">\n",
       "      <th></th>\n",
       "      <th>Country</th>\n",
       "      <th>Year</th>\n",
       "      <th>GDP_Per_Capita</th>\n",
       "    </tr>\n",
       "  </thead>\n",
       "  <tbody>\n",
       "    <tr>\n",
       "      <th>914</th>\n",
       "      <td>Burundi</td>\n",
       "      <td>2020</td>\n",
       "      <td>731.064074</td>\n",
       "    </tr>\n",
       "    <tr>\n",
       "      <th>915</th>\n",
       "      <td>Burundi</td>\n",
       "      <td>2019</td>\n",
       "      <td>751.443405</td>\n",
       "    </tr>\n",
       "    <tr>\n",
       "      <th>916</th>\n",
       "      <td>Burundi</td>\n",
       "      <td>2018</td>\n",
       "      <td>761.524143</td>\n",
       "    </tr>\n",
       "    <tr>\n",
       "      <th>917</th>\n",
       "      <td>Burundi</td>\n",
       "      <td>2017</td>\n",
       "      <td>773.572859</td>\n",
       "    </tr>\n",
       "    <tr>\n",
       "      <th>918</th>\n",
       "      <td>Burundi</td>\n",
       "      <td>2016</td>\n",
       "      <td>794.604340</td>\n",
       "    </tr>\n",
       "  </tbody>\n",
       "</table>\n",
       "</div>"
      ],
      "text/plain": [
       "     Country  Year  GDP_Per_Capita\n",
       "914  Burundi  2020      731.064074\n",
       "915  Burundi  2019      751.443405\n",
       "916  Burundi  2018      761.524143\n",
       "917  Burundi  2017      773.572859\n",
       "918  Burundi  2016      794.604340"
      ]
     },
     "execution_count": 74,
     "metadata": {},
     "output_type": "execute_result"
    }
   ],
   "source": [
    "Burundi_throughyears = gdp_df.loc[gdp_df['Country']== 'Burundi']\n",
    "Burundi_throughyears.head()"
   ]
  },
  {
   "cell_type": "code",
   "execution_count": 75,
   "id": "cd3bd8b1",
   "metadata": {},
   "outputs": [
    {
     "data": {
      "image/png": "[encoded data removed]",
      "text/plain": [
       "<Figure size 640x480 with 1 Axes>"
      ]
     },
     "metadata": {},
     "output_type": "display_data"
    }
   ],
   "source": [
    "# I use df.plot('x', 'y') \n",
    "#        plt.show()\n",
    "Burundi_throughyears.plot('Year', 'GDP_Per_Capita')\n",
    "plt.show()"
   ]
  },
  {
   "cell_type": "markdown",
   "id": "b036ab3b",
   "metadata": {},
   "source": [
    "*** Bonus question: Is it true in general that coutries had a higher GDP per capita in 2020 than in 1990? Which countries had lower GDP per capita in 2020 than in 1990?"
   ]
  },
  {
   "cell_type": "code",
   "execution_count": 110,
   "id": "20c2d5a1",
   "metadata": {
    "scrolled": false
   },
   "outputs": [],
   "source": [
    "data2020 = gdp_df.loc[gdp_df['Year'] == 2020].sort_values(by = 'Country')"
   ]
  },
  {
   "cell_type": "code",
   "execution_count": 114,
   "id": "7ebf7791",
   "metadata": {},
   "outputs": [
    {
     "data": {
      "text/html": [
       "<div>\n",
       "<style scoped>\n",
       "    .dataframe tbody tr th:only-of-type {\n",
       "        vertical-align: middle;\n",
       "    }\n",
       "\n",
       "    .dataframe tbody tr th {\n",
       "        vertical-align: top;\n",
       "    }\n",
       "\n",
       "    .dataframe thead th {\n",
       "        text-align: right;\n",
       "    }\n",
       "</style>\n",
       "<table border=\"1\" class=\"dataframe\">\n",
       "  <thead>\n",
       "    <tr style=\"text-align: right;\">\n",
       "      <th></th>\n",
       "      <th>Country</th>\n",
       "      <th>Year</th>\n",
       "      <th>GDP_Per_Capita</th>\n",
       "    </tr>\n",
       "  </thead>\n",
       "  <tbody>\n",
       "    <tr>\n",
       "      <th>0</th>\n",
       "      <td>Afghanistan</td>\n",
       "      <td>2020</td>\n",
       "      <td>1970.560169</td>\n",
       "    </tr>\n",
       "    <tr>\n",
       "      <th>19</th>\n",
       "      <td>Africa Eastern and Southern</td>\n",
       "      <td>2020</td>\n",
       "      <td>3491.978104</td>\n",
       "    </tr>\n",
       "    <tr>\n",
       "      <th>50</th>\n",
       "      <td>Africa Western and Central</td>\n",
       "      <td>2020</td>\n",
       "      <td>4021.293919</td>\n",
       "    </tr>\n",
       "    <tr>\n",
       "      <th>81</th>\n",
       "      <td>Albania</td>\n",
       "      <td>2020</td>\n",
       "      <td>13253.733337</td>\n",
       "    </tr>\n",
       "    <tr>\n",
       "      <th>112</th>\n",
       "      <td>Algeria</td>\n",
       "      <td>2020</td>\n",
       "      <td>10735.382539</td>\n",
       "    </tr>\n",
       "    <tr>\n",
       "      <th>...</th>\n",
       "      <td>...</td>\n",
       "      <td>...</td>\n",
       "      <td>...</td>\n",
       "    </tr>\n",
       "    <tr>\n",
       "      <th>7025</th>\n",
       "      <td>Vietnam</td>\n",
       "      <td>2020</td>\n",
       "      <td>10338.270543</td>\n",
       "    </tr>\n",
       "    <tr>\n",
       "      <th>7056</th>\n",
       "      <td>West Bank and Gaza</td>\n",
       "      <td>2020</td>\n",
       "      <td>5402.538773</td>\n",
       "    </tr>\n",
       "    <tr>\n",
       "      <th>7083</th>\n",
       "      <td>World</td>\n",
       "      <td>2020</td>\n",
       "      <td>16269.969854</td>\n",
       "    </tr>\n",
       "    <tr>\n",
       "      <th>7114</th>\n",
       "      <td>Zambia</td>\n",
       "      <td>2020</td>\n",
       "      <td>3277.816510</td>\n",
       "    </tr>\n",
       "    <tr>\n",
       "      <th>7145</th>\n",
       "      <td>Zimbabwe</td>\n",
       "      <td>2020</td>\n",
       "      <td>2134.555461</td>\n",
       "    </tr>\n",
       "  </tbody>\n",
       "</table>\n",
       "<p>240 rows × 3 columns</p>\n",
       "</div>"
      ],
      "text/plain": [
       "                          Country  Year  GDP_Per_Capita\n",
       "0                     Afghanistan  2020     1970.560169\n",
       "19    Africa Eastern and Southern  2020     3491.978104\n",
       "50     Africa Western and Central  2020     4021.293919\n",
       "81                        Albania  2020    13253.733337\n",
       "112                       Algeria  2020    10735.382539\n",
       "...                           ...   ...             ...\n",
       "7025                      Vietnam  2020    10338.270543\n",
       "7056           West Bank and Gaza  2020     5402.538773\n",
       "7083                        World  2020    16269.969854\n",
       "7114                       Zambia  2020     3277.816510\n",
       "7145                     Zimbabwe  2020     2134.555461\n",
       "\n",
       "[240 rows x 3 columns]"
      ]
     },
     "execution_count": 114,
     "metadata": {},
     "output_type": "execute_result"
    }
   ],
   "source": [
    "data2020"
   ]
  },
  {
   "cell_type": "code",
   "execution_count": 115,
   "id": "6130ca50",
   "metadata": {},
   "outputs": [],
   "source": [
    "data1990 = gdp_df.loc[gdp_df['Year'] == 1990].sort_values(by = 'Country')"
   ]
  },
  {
   "cell_type": "code",
   "execution_count": 112,
   "id": "faff3eb8",
   "metadata": {},
   "outputs": [
    {
     "data": {
      "text/html": [
       "<div>\n",
       "<style scoped>\n",
       "    .dataframe tbody tr th:only-of-type {\n",
       "        vertical-align: middle;\n",
       "    }\n",
       "\n",
       "    .dataframe tbody tr th {\n",
       "        vertical-align: top;\n",
       "    }\n",
       "\n",
       "    .dataframe thead th {\n",
       "        text-align: right;\n",
       "    }\n",
       "</style>\n",
       "<table border=\"1\" class=\"dataframe\">\n",
       "  <thead>\n",
       "    <tr style=\"text-align: right;\">\n",
       "      <th></th>\n",
       "      <th>Country</th>\n",
       "      <th>Year</th>\n",
       "      <th>GDP_Per_Capita</th>\n",
       "    </tr>\n",
       "  </thead>\n",
       "  <tbody>\n",
       "    <tr>\n",
       "      <th>49</th>\n",
       "      <td>Africa Eastern and Southern</td>\n",
       "      <td>1990</td>\n",
       "      <td>3083.976800</td>\n",
       "    </tr>\n",
       "    <tr>\n",
       "      <th>80</th>\n",
       "      <td>Africa Western and Central</td>\n",
       "      <td>1990</td>\n",
       "      <td>2810.341129</td>\n",
       "    </tr>\n",
       "    <tr>\n",
       "      <th>111</th>\n",
       "      <td>Albania</td>\n",
       "      <td>1990</td>\n",
       "      <td>4827.034551</td>\n",
       "    </tr>\n",
       "    <tr>\n",
       "      <th>142</th>\n",
       "      <td>Algeria</td>\n",
       "      <td>1990</td>\n",
       "      <td>8746.340762</td>\n",
       "    </tr>\n",
       "    <tr>\n",
       "      <th>173</th>\n",
       "      <td>Angola</td>\n",
       "      <td>1990</td>\n",
       "      <td>5758.950488</td>\n",
       "    </tr>\n",
       "    <tr>\n",
       "      <th>...</th>\n",
       "      <td>...</td>\n",
       "      <td>...</td>\n",
       "      <td>...</td>\n",
       "    </tr>\n",
       "    <tr>\n",
       "      <th>7024</th>\n",
       "      <td>Vanuatu</td>\n",
       "      <td>1990</td>\n",
       "      <td>2855.554643</td>\n",
       "    </tr>\n",
       "    <tr>\n",
       "      <th>7055</th>\n",
       "      <td>Vietnam</td>\n",
       "      <td>1990</td>\n",
       "      <td>2066.372215</td>\n",
       "    </tr>\n",
       "    <tr>\n",
       "      <th>7113</th>\n",
       "      <td>World</td>\n",
       "      <td>1990</td>\n",
       "      <td>9704.621768</td>\n",
       "    </tr>\n",
       "    <tr>\n",
       "      <th>7144</th>\n",
       "      <td>Zambia</td>\n",
       "      <td>1990</td>\n",
       "      <td>2190.181724</td>\n",
       "    </tr>\n",
       "    <tr>\n",
       "      <th>7175</th>\n",
       "      <td>Zimbabwe</td>\n",
       "      <td>1990</td>\n",
       "      <td>2652.129209</td>\n",
       "    </tr>\n",
       "  </tbody>\n",
       "</table>\n",
       "<p>206 rows × 3 columns</p>\n",
       "</div>"
      ],
      "text/plain": [
       "                          Country  Year  GDP_Per_Capita\n",
       "49    Africa Eastern and Southern  1990     3083.976800\n",
       "80     Africa Western and Central  1990     2810.341129\n",
       "111                       Albania  1990     4827.034551\n",
       "142                       Algeria  1990     8746.340762\n",
       "173                        Angola  1990     5758.950488\n",
       "...                           ...   ...             ...\n",
       "7024                      Vanuatu  1990     2855.554643\n",
       "7055                      Vietnam  1990     2066.372215\n",
       "7113                        World  1990     9704.621768\n",
       "7144                       Zambia  1990     2190.181724\n",
       "7175                     Zimbabwe  1990     2652.129209\n",
       "\n",
       "[206 rows x 3 columns]"
      ]
     },
     "execution_count": 112,
     "metadata": {},
     "output_type": "execute_result"
    }
   ],
   "source": [
    "data1990"
   ]
  },
  {
   "cell_type": "code",
   "execution_count": null,
   "id": "41a5d7d0",
   "metadata": {},
   "outputs": [],
   "source": [
    "#  'compare'  uses to compare identically-labeled DataFrames"
   ]
  },
  {
   "cell_type": "code",
   "execution_count": 142,
   "id": "b5df2bbf",
   "metadata": {},
   "outputs": [
    {
     "data": {
      "text/html": [
       "<div>\n",
       "<style scoped>\n",
       "    .dataframe tbody tr th:only-of-type {\n",
       "        vertical-align: middle;\n",
       "    }\n",
       "\n",
       "    .dataframe tbody tr th {\n",
       "        vertical-align: top;\n",
       "    }\n",
       "\n",
       "    .dataframe thead th {\n",
       "        text-align: right;\n",
       "    }\n",
       "</style>\n",
       "<table border=\"1\" class=\"dataframe\">\n",
       "  <thead>\n",
       "    <tr style=\"text-align: right;\">\n",
       "      <th></th>\n",
       "      <th>Country</th>\n",
       "      <th>Year</th>\n",
       "      <th>GDP_Per_Capita</th>\n",
       "    </tr>\n",
       "  </thead>\n",
       "  <tbody>\n",
       "    <tr>\n",
       "      <th>0</th>\n",
       "      <td>Afghanistan</td>\n",
       "      <td>2020</td>\n",
       "      <td>1970.560169</td>\n",
       "    </tr>\n",
       "    <tr>\n",
       "      <th>19</th>\n",
       "      <td>Africa Eastern and Southern</td>\n",
       "      <td>2020</td>\n",
       "      <td>3491.978104</td>\n",
       "    </tr>\n",
       "    <tr>\n",
       "      <th>49</th>\n",
       "      <td>Africa Eastern and Southern</td>\n",
       "      <td>1990</td>\n",
       "      <td>3083.976800</td>\n",
       "    </tr>\n",
       "    <tr>\n",
       "      <th>50</th>\n",
       "      <td>Africa Western and Central</td>\n",
       "      <td>2020</td>\n",
       "      <td>4021.293919</td>\n",
       "    </tr>\n",
       "    <tr>\n",
       "      <th>80</th>\n",
       "      <td>Africa Western and Central</td>\n",
       "      <td>1990</td>\n",
       "      <td>2810.341129</td>\n",
       "    </tr>\n",
       "    <tr>\n",
       "      <th>...</th>\n",
       "      <td>...</td>\n",
       "      <td>...</td>\n",
       "      <td>...</td>\n",
       "    </tr>\n",
       "    <tr>\n",
       "      <th>7113</th>\n",
       "      <td>World</td>\n",
       "      <td>1990</td>\n",
       "      <td>9704.621768</td>\n",
       "    </tr>\n",
       "    <tr>\n",
       "      <th>7114</th>\n",
       "      <td>Zambia</td>\n",
       "      <td>2020</td>\n",
       "      <td>3277.816510</td>\n",
       "    </tr>\n",
       "    <tr>\n",
       "      <th>7144</th>\n",
       "      <td>Zambia</td>\n",
       "      <td>1990</td>\n",
       "      <td>2190.181724</td>\n",
       "    </tr>\n",
       "    <tr>\n",
       "      <th>7145</th>\n",
       "      <td>Zimbabwe</td>\n",
       "      <td>2020</td>\n",
       "      <td>2134.555461</td>\n",
       "    </tr>\n",
       "    <tr>\n",
       "      <th>7175</th>\n",
       "      <td>Zimbabwe</td>\n",
       "      <td>1990</td>\n",
       "      <td>2652.129209</td>\n",
       "    </tr>\n",
       "  </tbody>\n",
       "</table>\n",
       "<p>446 rows × 3 columns</p>\n",
       "</div>"
      ],
      "text/plain": [
       "                          Country  Year  GDP_Per_Capita\n",
       "0                     Afghanistan  2020     1970.560169\n",
       "19    Africa Eastern and Southern  2020     3491.978104\n",
       "49    Africa Eastern and Southern  1990     3083.976800\n",
       "50     Africa Western and Central  2020     4021.293919\n",
       "80     Africa Western and Central  1990     2810.341129\n",
       "...                           ...   ...             ...\n",
       "7113                        World  1990     9704.621768\n",
       "7114                       Zambia  2020     3277.816510\n",
       "7144                       Zambia  1990     2190.181724\n",
       "7145                     Zimbabwe  2020     2134.555461\n",
       "7175                     Zimbabwe  1990     2652.129209\n",
       "\n",
       "[446 rows x 3 columns]"
      ]
     },
     "execution_count": 142,
     "metadata": {},
     "output_type": "execute_result"
    }
   ],
   "source": [
    "bothdatas = pd.concat([data2020 , data1990]).sort_values(by = 'Country')\n",
    "bothdatas"
   ]
  },
  {
   "cell_type": "code",
   "execution_count": 145,
   "id": "95aee93d",
   "metadata": {},
   "outputs": [
    {
     "data": {
      "text/plain": [
       "Text(0, 0.5, 'GDP_Per_Capita')"
      ]
     },
     "execution_count": 145,
     "metadata": {},
     "output_type": "execute_result"
    },
    {
     "data": {
      "image/png": "[encoded data removed]",
      "text/plain": [
       "<Figure size 640x480 with 1 Axes>"
      ]
     },
     "metadata": {},
     "output_type": "display_data"
    }
   ],
   "source": [
    "plt.scatter(x = 'Year', y ='GDP_Per_Capita', data = bothdatas)\n",
    "plt.xlabel('Year')\n",
    "plt.ylabel('GDP_Per_Capita')"
   ]
  },
  {
   "cell_type": "markdown",
   "id": "7c77c166",
   "metadata": {},
   "source": [
    "         =>  when I compare each GDP_Per_Capita by countries, 2020 had higher GDP_per_Capita"
   ]
  },
  {
   "cell_type": "markdown",
   "id": "19b89cd7",
   "metadata": {},
   "source": [
    " Which countries had lower GDP per capita in 2020 than in 1990?"
   ]
  },
  {
   "cell_type": "code",
   "execution_count": null,
   "id": "9c5c3964",
   "metadata": {},
   "outputs": [],
   "source": []
  },
  {
   "cell_type": "code",
   "execution_count": null,
   "id": "b5cecc4e",
   "metadata": {},
   "outputs": [],
   "source": []
  },
  {
   "cell_type": "code",
   "execution_count": null,
   "id": "f32f9ee0",
   "metadata": {},
   "outputs": [],
   "source": []
  },
  {
   "cell_type": "code",
   "execution_count": null,
   "id": "814a49f0",
   "metadata": {},
   "outputs": [],
   "source": []
  },
  {
   "cell_type": "code",
   "execution_count": null,
   "id": "03d66727",
   "metadata": {},
   "outputs": [],
   "source": []
  },
  {
   "cell_type": "code",
   "execution_count": null,
   "id": "8d0b8f9d",
   "metadata": {},
   "outputs": [],
   "source": []
  },
  {
   "cell_type": "code",
   "execution_count": null,
   "id": "c3b44e51",
   "metadata": {},
   "outputs": [],
   "source": []
  },
  {
   "cell_type": "code",
   "execution_count": null,
   "id": "f0a0f6af",
   "metadata": {},
   "outputs": [],
   "source": []
  },
  {
   "cell_type": "code",
   "execution_count": null,
   "id": "ad3dba73",
   "metadata": {},
   "outputs": [],
   "source": []
  }
 ],
 "metadata": {
  "kernelspec": {
   "display_name": "Python 3 (ipykernel)",
   "language": "python",
   "name": "python3"
  },
  "language_info": {
   "codemirror_mode": {
    "name": "ipython",
    "version": 3
   },
   "file_extension": ".py",
   "mimetype": "text/x-python",
   "name": "python",
   "nbconvert_exporter": "python",
   "pygments_lexer": "ipython3",
   "version": "3.11.5"
  }
 },
 "nbformat": 4,
 "nbformat_minor": 5
}
